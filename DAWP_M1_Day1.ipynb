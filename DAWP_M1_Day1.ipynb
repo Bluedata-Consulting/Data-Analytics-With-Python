{
  "cells": [
    {
      "cell_type": "code",
      "execution_count": null,
      "id": "1681531b",
      "metadata": {
        "id": "1681531b",
        "outputId": "034a23a6-6e85-4e7c-9e0a-0ce59bb539aa"
      },
      "outputs": [
        {
          "name": "stdout",
          "output_type": "stream",
          "text": [
            "hello\n"
          ]
        }
      ],
      "source": [
        "print(\"hello\")"
      ]
    },
    {
      "cell_type": "code",
      "execution_count": null,
      "id": "f8a2156b",
      "metadata": {
        "id": "f8a2156b",
        "outputId": "621d1464-9788-4b94-fb7a-ce9942d2bf59"
      },
      "outputs": [
        {
          "name": "stdout",
          "output_type": "stream",
          "text": [
            "welcome\n"
          ]
        }
      ],
      "source": [
        "#first line\n",
        "print(\"welcome\")"
      ]
    },
    {
      "cell_type": "markdown",
      "id": "72830225",
      "metadata": {
        "id": "72830225"
      },
      "source": [
        "#data types in python\n",
        "#int\n",
        "#float\n",
        "#string\n",
        "#boolean"
      ]
    },
    {
      "cell_type": "code",
      "execution_count": null,
      "id": "e304871b",
      "metadata": {
        "id": "e304871b"
      },
      "outputs": [],
      "source": [
        "#initializing an integer variables\n",
        "x=10"
      ]
    },
    {
      "cell_type": "code",
      "execution_count": null,
      "id": "c19aa9b8",
      "metadata": {
        "id": "c19aa9b8",
        "outputId": "c41e8bcc-0de3-4b4b-c71a-d2eb48445881"
      },
      "outputs": [
        {
          "data": {
            "text/plain": [
              "int"
            ]
          },
          "execution_count": 5,
          "metadata": {},
          "output_type": "execute_result"
        }
      ],
      "source": [
        "#checking the type of data or variable\n",
        "type(x)"
      ]
    },
    {
      "cell_type": "code",
      "execution_count": null,
      "id": "e7e27f59",
      "metadata": {
        "id": "e7e27f59"
      },
      "outputs": [],
      "source": [
        "x=20"
      ]
    },
    {
      "cell_type": "code",
      "execution_count": null,
      "id": "6bfbdd87",
      "metadata": {
        "id": "6bfbdd87",
        "outputId": "075066af-04b2-4a22-c902-dffbc1a87954"
      },
      "outputs": [
        {
          "data": {
            "text/plain": [
              "20"
            ]
          },
          "execution_count": 7,
          "metadata": {},
          "output_type": "execute_result"
        }
      ],
      "source": [
        "x"
      ]
    },
    {
      "cell_type": "code",
      "execution_count": null,
      "id": "6e25337d",
      "metadata": {
        "id": "6e25337d"
      },
      "outputs": [],
      "source": [
        "#float data type\n",
        "bandwidth=345.7"
      ]
    },
    {
      "cell_type": "code",
      "execution_count": null,
      "id": "b4b5c51a",
      "metadata": {
        "id": "b4b5c51a",
        "outputId": "9665dce6-9d0e-4b9d-f94c-acc7445029a6"
      },
      "outputs": [
        {
          "data": {
            "text/plain": [
              "345.7"
            ]
          },
          "execution_count": 9,
          "metadata": {},
          "output_type": "execute_result"
        }
      ],
      "source": [
        "bandwidth"
      ]
    },
    {
      "cell_type": "code",
      "execution_count": null,
      "id": "47e833c1",
      "metadata": {
        "id": "47e833c1",
        "outputId": "bb158d30-4ef0-43e6-8f2d-4fef88136869"
      },
      "outputs": [
        {
          "data": {
            "text/plain": [
              "float"
            ]
          },
          "execution_count": 10,
          "metadata": {},
          "output_type": "execute_result"
        }
      ],
      "source": [
        "type(bandwidth)"
      ]
    },
    {
      "cell_type": "code",
      "execution_count": null,
      "id": "836cfa6b",
      "metadata": {
        "id": "836cfa6b"
      },
      "outputs": [],
      "source": [
        "#string Data type\n",
        "#collection of letters\n",
        "name=\"Tom Liam\""
      ]
    },
    {
      "cell_type": "code",
      "execution_count": null,
      "id": "07926e6d",
      "metadata": {
        "id": "07926e6d",
        "outputId": "64885b0d-ca82-472c-a28a-dae1c4ede1b2"
      },
      "outputs": [
        {
          "data": {
            "text/plain": [
              "str"
            ]
          },
          "execution_count": 12,
          "metadata": {},
          "output_type": "execute_result"
        }
      ],
      "source": [
        "type(name)"
      ]
    },
    {
      "cell_type": "code",
      "execution_count": null,
      "id": "6db08ff3",
      "metadata": {
        "id": "6db08ff3"
      },
      "outputs": [],
      "source": [
        "#Boolean Data Type\n",
        "result=True"
      ]
    },
    {
      "cell_type": "code",
      "execution_count": null,
      "id": "f497626e",
      "metadata": {
        "id": "f497626e",
        "outputId": "86552e84-4fc4-44e1-d31f-b5373b6c7a81"
      },
      "outputs": [
        {
          "data": {
            "text/plain": [
              "bool"
            ]
          },
          "execution_count": 14,
          "metadata": {},
          "output_type": "execute_result"
        }
      ],
      "source": [
        "type(result)"
      ]
    },
    {
      "cell_type": "code",
      "execution_count": null,
      "id": "8b69965d",
      "metadata": {
        "id": "8b69965d",
        "outputId": "927cd432-a5dc-419a-ad4e-c2f9b8cc7c66"
      },
      "outputs": [
        {
          "name": "stdout",
          "output_type": "stream",
          "text": [
            "Ashish\n"
          ]
        }
      ],
      "source": [
        "#this is my first line of comment\n",
        "print(\"Ashish\")#ashish si my first name\n"
      ]
    },
    {
      "cell_type": "code",
      "execution_count": null,
      "id": "aa52b0f7",
      "metadata": {
        "id": "aa52b0f7"
      },
      "outputs": [],
      "source": [
        "#basic operation in python\n",
        "#adding two interger values\n",
        "a=10\n",
        "b=20"
      ]
    },
    {
      "cell_type": "code",
      "execution_count": null,
      "id": "278bcb8f",
      "metadata": {
        "id": "278bcb8f",
        "outputId": "d86d02dd-7a1b-4647-b6d2-10e3d935ab2e"
      },
      "outputs": [
        {
          "data": {
            "text/plain": [
              "30"
            ]
          },
          "execution_count": 17,
          "metadata": {},
          "output_type": "execute_result"
        }
      ],
      "source": [
        "a+b"
      ]
    },
    {
      "cell_type": "code",
      "execution_count": null,
      "id": "dd1e94b2",
      "metadata": {
        "id": "dd1e94b2"
      },
      "outputs": [],
      "source": [
        "#calculating the bandwidth\n",
        "amount_of_data=123124\n",
        "time=1.5\n",
        "bandwidth_1=(amount_of_data/time)"
      ]
    },
    {
      "cell_type": "code",
      "execution_count": null,
      "id": "ee7dcb3a",
      "metadata": {
        "id": "ee7dcb3a",
        "outputId": "ed57655b-c972-4d7b-9c6d-f8b320de587d"
      },
      "outputs": [
        {
          "data": {
            "text/plain": [
              "82082.66666666667"
            ]
          },
          "execution_count": 22,
          "metadata": {},
          "output_type": "execute_result"
        }
      ],
      "source": [
        "bandwidth_1"
      ]
    },
    {
      "cell_type": "code",
      "execution_count": null,
      "id": "83af811f",
      "metadata": {
        "id": "83af811f"
      },
      "outputs": [],
      "source": [
        "salary='2345678'#string data type"
      ]
    },
    {
      "cell_type": "code",
      "execution_count": null,
      "id": "6725f758",
      "metadata": {
        "id": "6725f758",
        "outputId": "63f0486b-b39f-4242-ce9d-87b00f767eb3"
      },
      "outputs": [
        {
          "data": {
            "text/plain": [
              "str"
            ]
          },
          "execution_count": 25,
          "metadata": {},
          "output_type": "execute_result"
        }
      ],
      "source": [
        "type(salary)"
      ]
    },
    {
      "cell_type": "code",
      "execution_count": null,
      "id": "e1e6ebac",
      "metadata": {
        "id": "e1e6ebac"
      },
      "outputs": [],
      "source": [
        "update_salary=int(salary)#we have converted the string data type to int data type using the\n",
        "                         #concept of type casting"
      ]
    },
    {
      "cell_type": "code",
      "execution_count": null,
      "id": "6ea65962",
      "metadata": {
        "id": "6ea65962",
        "outputId": "4b165568-4e4b-41ba-c7c2-6f6cce8669c1"
      },
      "outputs": [
        {
          "data": {
            "text/plain": [
              "2345678"
            ]
          },
          "execution_count": 27,
          "metadata": {},
          "output_type": "execute_result"
        }
      ],
      "source": [
        "update_salary"
      ]
    },
    {
      "cell_type": "code",
      "execution_count": null,
      "id": "748f858e",
      "metadata": {
        "id": "748f858e",
        "outputId": "caedbecd-48f4-4ed6-ce96-29b4333912a6"
      },
      "outputs": [
        {
          "data": {
            "text/plain": [
              "int"
            ]
          },
          "execution_count": 28,
          "metadata": {},
          "output_type": "execute_result"
        }
      ],
      "source": [
        "type(update_salary)"
      ]
    },
    {
      "cell_type": "code",
      "execution_count": null,
      "id": "9037a4f7",
      "metadata": {
        "id": "9037a4f7"
      },
      "outputs": [],
      "source": [
        "#create a variable age in int format and create a new variable called updated_age which is string\n",
        "#type using type casting"
      ]
    },
    {
      "cell_type": "code",
      "execution_count": null,
      "id": "28aca1c6",
      "metadata": {
        "id": "28aca1c6",
        "outputId": "779be21c-0209-46af-af15-7779c95397d9"
      },
      "outputs": [
        {
          "ename": "ValueError",
          "evalue": "invalid literal for int() with base 10: 'Maxis'",
          "output_type": "error",
          "traceback": [
            "\u001b[0;31m---------------------------------------------------------------------------\u001b[0m",
            "\u001b[0;31mValueError\u001b[0m                                Traceback (most recent call last)",
            "\u001b[0;32m/var/folders/hw/qbxwv30d0pd327557k42wrxc0000gp/T/ipykernel_68681/178060292.py\u001b[0m in \u001b[0;36m<module>\u001b[0;34m\u001b[0m\n\u001b[1;32m      1\u001b[0m \u001b[0mcompany\u001b[0m\u001b[0;34m=\u001b[0m\u001b[0;34m'Maxis'\u001b[0m\u001b[0;34m\u001b[0m\u001b[0;34m\u001b[0m\u001b[0m\n\u001b[0;32m----> 2\u001b[0;31m \u001b[0mnew_company\u001b[0m\u001b[0;34m=\u001b[0m\u001b[0mint\u001b[0m\u001b[0;34m(\u001b[0m\u001b[0mcompany\u001b[0m\u001b[0;34m)\u001b[0m\u001b[0;34m\u001b[0m\u001b[0;34m\u001b[0m\u001b[0m\n\u001b[0m",
            "\u001b[0;31mValueError\u001b[0m: invalid literal for int() with base 10: 'Maxis'"
          ]
        }
      ],
      "source": [
        "company='Maxis'\n",
        "new_company=int(company)"
      ]
    }
  ],
  "metadata": {
    "kernelspec": {
      "display_name": "Python 3 (ipykernel)",
      "language": "python",
      "name": "python3"
    },
    "language_info": {
      "codemirror_mode": {
        "name": "ipython",
        "version": 3
      },
      "file_extension": ".py",
      "mimetype": "text/x-python",
      "name": "python",
      "nbconvert_exporter": "python",
      "pygments_lexer": "ipython3",
      "version": "3.9.13"
    },
    "colab": {
      "provenance": []
    }
  },
  "nbformat": 4,
  "nbformat_minor": 5
}