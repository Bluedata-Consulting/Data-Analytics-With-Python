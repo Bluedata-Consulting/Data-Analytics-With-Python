{
  "cells": [
    {
      "cell_type": "code",
      "execution_count": null,
      "id": "d03f91f2",
      "metadata": {
        "id": "d03f91f2"
      },
      "outputs": [],
      "source": [
        "# if Statement\n",
        "x=10\n",
        "if x<10:\n",
        "    print(\"the value is less than 10\")#print is said to be body of if statement coz it is inside the if"
      ]
    },
    {
      "cell_type": "code",
      "execution_count": null,
      "id": "40106110",
      "metadata": {
        "id": "40106110"
      },
      "outputs": [],
      "source": [
        "#importing a library to work on random data\n",
        "import random"
      ]
    },
    {
      "cell_type": "code",
      "execution_count": null,
      "id": "cff7aa49",
      "metadata": {
        "id": "cff7aa49"
      },
      "outputs": [],
      "source": [
        "y=random.randint(1,20)"
      ]
    },
    {
      "cell_type": "code",
      "execution_count": null,
      "id": "94c2a5f5",
      "metadata": {
        "id": "94c2a5f5",
        "outputId": "c817b8d3-4769-4555-d7ea-ac94a0c62755"
      },
      "outputs": [
        {
          "data": {
            "text/plain": [
              "16"
            ]
          },
          "execution_count": 131,
          "metadata": {},
          "output_type": "execute_result"
        }
      ],
      "source": [
        "y"
      ]
    },
    {
      "cell_type": "code",
      "execution_count": null,
      "id": "7e32dfb8",
      "metadata": {
        "id": "7e32dfb8"
      },
      "outputs": [],
      "source": [
        "if y<10:\n",
        "    print(\"welcome to the session on python\")"
      ]
    },
    {
      "cell_type": "code",
      "execution_count": null,
      "id": "5f5647f8",
      "metadata": {
        "id": "5f5647f8"
      },
      "outputs": [],
      "source": [
        "#else-if statement\n",
        "if y>10:\n",
        "    print(\"the value is greater than 10\")\n",
        "else:\n",
        "    print(\"value is smaller\")"
      ]
    },
    {
      "cell_type": "code",
      "execution_count": null,
      "id": "becdccd8",
      "metadata": {
        "id": "becdccd8",
        "outputId": "60169ab9-a63b-43db-b6a0-794055eb5a00"
      },
      "outputs": [
        {
          "name": "stdout",
          "output_type": "stream",
          "text": [
            "enter the value of bandwidth11.2\n",
            "the bandwidth is good\n"
          ]
        }
      ],
      "source": [
        "#taking input from user\n",
        "bandwidth=float(input(\"enter the value of bandwidth\"))#user input\n",
        "if bandwidth>10:\n",
        "    print(\"the bandwidth is good\")\n",
        "else:\n",
        "    print(\"the bandwidth is bad\")"
      ]
    },
    {
      "cell_type": "code",
      "execution_count": null,
      "id": "8878b7d5",
      "metadata": {
        "id": "8878b7d5",
        "outputId": "6a2230e8-9f80-4c0a-f52e-ade09a537277"
      },
      "outputs": [
        {
          "name": "stdout",
          "output_type": "stream",
          "text": [
            "enter the value of bandwidth9.7\n",
            "increase the value of bandwidth\n"
          ]
        }
      ],
      "source": [
        "bandwidth=float(input(\"enter the value of bandwidth\"))#user input\n",
        "if bandwidth>10:\n",
        "    print(\"the bandwidth is good\")\n",
        "elif bandwidth<10:\n",
        "    print(\"increase the value of bandwidth\")"
      ]
    },
    {
      "cell_type": "code",
      "execution_count": null,
      "id": "4ec000c7",
      "metadata": {
        "id": "4ec000c7"
      },
      "outputs": [],
      "source": [
        "#nested conditional statement\n",
        "bandwidth=float(input(\"enter the value of bandwidth\"))#user input\n",
        "if bandwidth>10:\n",
        "    print(\"the bandwidth is good\")\n",
        "elif bandwidth==10:#comparing the value\n",
        "    print(\"signal is perfect\")\n",
        "else:\n",
        "    print(\"increase the value of bandwidth\")"
      ]
    },
    {
      "cell_type": "code",
      "execution_count": null,
      "id": "f4ad8f73",
      "metadata": {
        "id": "f4ad8f73"
      },
      "outputs": [],
      "source": [
        "######################### Loops in python #########################"
      ]
    },
    {
      "cell_type": "code",
      "execution_count": null,
      "id": "19c0e760",
      "metadata": {
        "id": "19c0e760",
        "outputId": "b0a387d3-8c84-4f35-d9cc-7a903553aa13"
      },
      "outputs": [
        {
          "name": "stdout",
          "output_type": "stream",
          "text": [
            "east\n",
            "west\n",
            "north\n",
            "south\n",
            "central\n"
          ]
        }
      ],
      "source": [
        "#for loop\n",
        "site_location=['east','west','north','south','central']\n",
        "for name in site_location:\n",
        "    print(name)"
      ]
    },
    {
      "cell_type": "code",
      "execution_count": null,
      "id": "26b2b3f8",
      "metadata": {
        "id": "26b2b3f8",
        "outputId": "0d1e475e-655a-4e31-96cd-a72c99804fbc"
      },
      "outputs": [
        {
          "name": "stdout",
          "output_type": "stream",
          "text": [
            "enter the num5\n",
            "5 x 1 = 5\n",
            "5 x 2 = 10\n",
            "5 x 3 = 15\n",
            "5 x 4 = 20\n",
            "5 x 5 = 25\n",
            "5 x 6 = 30\n",
            "5 x 7 = 35\n",
            "5 x 8 = 40\n",
            "5 x 9 = 45\n",
            "5 x 10 = 50\n"
          ]
        }
      ],
      "source": [
        "num=int(input(\"enter the num\"))\n",
        "for i in range(1,11):\n",
        "    print(num,'x',i,'=',num*i)"
      ]
    },
    {
      "cell_type": "code",
      "execution_count": null,
      "id": "bdd45289",
      "metadata": {
        "id": "bdd45289",
        "outputId": "53d29e07-bf47-42f5-ba3a-95ea7192a86a"
      },
      "outputs": [
        {
          "name": "stdout",
          "output_type": "stream",
          "text": [
            "the salary is low\n",
            "the salary is low\n",
            "the salary is low\n",
            "the salary is low\n",
            "the salary is low\n"
          ]
        }
      ],
      "source": [
        "salary=[231,4245,45,63,452,535,4,62,4,34,52,2345,4542]\n",
        "for i in salary:\n",
        "    if i==535:\n",
        "        break #break is used to terminate the loop\n",
        "    print(\"the salary is low\")\n",
        ""
      ]
    },
    {
      "cell_type": "code",
      "execution_count": null,
      "id": "f1ee6686",
      "metadata": {
        "id": "f1ee6686"
      },
      "outputs": [],
      "source": [
        "Ques- calculate the  sum of first 10 natural numbers using for loop"
      ]
    },
    {
      "cell_type": "code",
      "execution_count": null,
      "id": "8cd8ed66",
      "metadata": {
        "id": "8cd8ed66",
        "outputId": "23795328-4e01-4d59-8000-0c7a18345d33"
      },
      "outputs": [
        {
          "name": "stdout",
          "output_type": "stream",
          "text": [
            "ping to the site 0\n",
            "ping to the site 1\n",
            "ping to the site 2\n",
            "ping to the site 3\n",
            "ping to the site 4\n",
            "ping to the site 5\n",
            "ping to the site 6\n",
            "ping to the site 7\n",
            "ping to the site 8\n",
            "ping to the site 9\n"
          ]
        }
      ],
      "source": [
        "######################## while loop ##########################\n",
        "bandwidth=0 #bandwidth is a counter which counts the no of execution of while loop\n",
        "while bandwidth<10:\n",
        "    print(\"ping to the site\",bandwidth)\n",
        "    bandwidth+=1"
      ]
    },
    {
      "cell_type": "code",
      "execution_count": null,
      "id": "24a1790b",
      "metadata": {
        "id": "24a1790b",
        "outputId": "11a25585-5836-44d0-d83f-310f09bfce5e"
      },
      "outputs": [
        {
          "name": "stdout",
          "output_type": "stream",
          "text": [
            "the first number is 0\n"
          ]
        }
      ],
      "source": [
        "#checking all the no which are divisible by a certain no in a range\n",
        "i=0\n",
        "while(i<=50 and i %7!=0):\n",
        "    i+=1\n",
        "else:\n",
        "    if (i%7==0):\n",
        "        print(\"the first number is\",i)\n",
        "    else:\n",
        "        print(\"no number is divisible by 7\")"
      ]
    },
    {
      "cell_type": "code",
      "execution_count": null,
      "id": "7a6d3498",
      "metadata": {
        "id": "7a6d3498"
      },
      "outputs": [],
      "source": [
        "#calculate the sum of first 10 natural numbers using while loop"
      ]
    },
    {
      "cell_type": "code",
      "execution_count": null,
      "id": "5bf78a0b",
      "metadata": {
        "id": "5bf78a0b",
        "outputId": "6a68f5af-a493-433c-c482-1e404db2c650"
      },
      "outputs": [
        {
          "name": "stdout",
          "output_type": "stream",
          "text": [
            "0\n",
            "1\n",
            "2\n",
            "3\n",
            "4\n",
            "6\n",
            "7\n",
            "8\n"
          ]
        }
      ],
      "source": [
        "#continue statement\n",
        "for i in range(9):\n",
        "    if i==5:\n",
        "        continue #we are skipping the value of i here\n",
        "    print(i)"
      ]
    },
    {
      "cell_type": "code",
      "execution_count": null,
      "id": "3059a982",
      "metadata": {
        "id": "3059a982",
        "outputId": "170d9c02-fb30-4a43-b8d2-2046b9053d6c"
      },
      "outputs": [
        {
          "name": "stdout",
          "output_type": "stream",
          "text": [
            "1\n",
            "2\n",
            "3\n",
            "5\n",
            "6\n",
            "7\n",
            "8\n",
            "9\n",
            "10\n"
          ]
        }
      ],
      "source": [
        "#continue with while loop\n",
        "i=0\n",
        "while i<10:\n",
        "    i+=1\n",
        "    if i==4:\n",
        "        continue# skip the value of if condition\n",
        "    print(i)"
      ]
    }
  ],
  "metadata": {
    "kernelspec": {
      "display_name": "Python 3 (ipykernel)",
      "language": "python",
      "name": "python3"
    },
    "language_info": {
      "codemirror_mode": {
        "name": "ipython",
        "version": 3
      },
      "file_extension": ".py",
      "mimetype": "text/x-python",
      "name": "python",
      "nbconvert_exporter": "python",
      "pygments_lexer": "ipython3",
      "version": "3.9.13"
    },
    "colab": {
      "provenance": []
    }
  },
  "nbformat": 4,
  "nbformat_minor": 5
}