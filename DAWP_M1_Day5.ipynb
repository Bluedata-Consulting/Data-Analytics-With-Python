{
  "cells": [
    {
      "cell_type": "markdown",
      "id": "f2a3073c",
      "metadata": {
        "id": "f2a3073c"
      },
      "source": [
        "#Types of Errors\n",
        "1. Synatx Error -when we have not written the proper format of the code\n",
        "2. Type Error- this Error is raised when an operation or function is applied to an object of the wrong type\n",
        "ex- adding an integer to a string\n",
        "3. NameError- when a variable or function is not defined for the current scope.\n",
        "4. IndexError- this error is raised when an index is out of range\n",
        "5. KeyError- This error raised when a key is not found in the directory.\n",
        "6. Value Error- This exception is raised when a function or method is called with an invalid argument or input.\n",
        "7. Attribute Error- This exception is raised when an attribute or method is not found on an object,such as tring to access a non-existent attribute of a class.\n",
        "8. IOError- This exception is raised when an I/O operation , such as reading or writing a file fails due to an input/output error.\n",
        "9. ZeroDivisionError-This exception is raised when an attempt is made to divide a number by zero.\n",
        "10. Import Error- This exception is raised when an import fails to find or load a module."
      ]
    },
    {
      "cell_type": "code",
      "execution_count": null,
      "id": "1c114ce2",
      "metadata": {
        "id": "1c114ce2",
        "outputId": "a3934cc7-a658-4a57-8e18-f45916c406eb"
      },
      "outputs": [
        {
          "ename": "SyntaxError",
          "evalue": "invalid syntax (3198217277.py, line 3)",
          "output_type": "error",
          "traceback": [
            "\u001b[0;36m  File \u001b[0;32m\"/var/folders/hw/qbxwv30d0pd327557k42wrxc0000gp/T/ipykernel_68681/3198217277.py\"\u001b[0;36m, line \u001b[0;32m3\u001b[0m\n\u001b[0;31m    if (amount>2560)\u001b[0m\n\u001b[0m                    ^\u001b[0m\n\u001b[0;31mSyntaxError\u001b[0m\u001b[0;31m:\u001b[0m invalid syntax\n"
          ]
        }
      ],
      "source": [
        "#difference between syntax error and exception\n",
        "amount=10000\n",
        "if (amount>2560)\n",
        "    print(\"the amount is credited\")"
      ]
    },
    {
      "cell_type": "markdown",
      "id": "51677539",
      "metadata": {
        "id": "51677539"
      },
      "source": [
        "#exception\n",
        "these are raised when a program is syntactically correct, but the code result in an error"
      ]
    },
    {
      "cell_type": "code",
      "execution_count": null,
      "id": "664695f6",
      "metadata": {
        "id": "664695f6",
        "outputId": "6bb13864-1493-409a-eac4-56396fd6969c"
      },
      "outputs": [
        {
          "ename": "ZeroDivisionError",
          "evalue": "division by zero",
          "output_type": "error",
          "traceback": [
            "\u001b[0;31m---------------------------------------------------------------------------\u001b[0m",
            "\u001b[0;31mZeroDivisionError\u001b[0m                         Traceback (most recent call last)",
            "\u001b[0;32m/var/folders/hw/qbxwv30d0pd327557k42wrxc0000gp/T/ipykernel_68681/2656794551.py\u001b[0m in \u001b[0;36m<module>\u001b[0;34m\u001b[0m\n\u001b[1;32m      1\u001b[0m \u001b[0mmarks\u001b[0m\u001b[0;34m=\u001b[0m\u001b[0;36m87\u001b[0m\u001b[0;34m\u001b[0m\u001b[0;34m\u001b[0m\u001b[0m\n\u001b[0;32m----> 2\u001b[0;31m \u001b[0ma\u001b[0m\u001b[0;34m=\u001b[0m\u001b[0mmarks\u001b[0m\u001b[0;34m/\u001b[0m\u001b[0;36m0\u001b[0m\u001b[0;34m\u001b[0m\u001b[0;34m\u001b[0m\u001b[0m\n\u001b[0m\u001b[1;32m      3\u001b[0m \u001b[0mprint\u001b[0m\u001b[0;34m(\u001b[0m\u001b[0ma\u001b[0m\u001b[0;34m)\u001b[0m\u001b[0;34m\u001b[0m\u001b[0;34m\u001b[0m\u001b[0m\n",
            "\u001b[0;31mZeroDivisionError\u001b[0m: division by zero"
          ]
        }
      ],
      "source": [
        "marks=87\n",
        "a=marks/0\n",
        "print(a)"
      ]
    },
    {
      "cell_type": "code",
      "execution_count": null,
      "id": "f410bc9c",
      "metadata": {
        "id": "f410bc9c"
      },
      "outputs": [],
      "source": [
        "#type Error\n",
        "#define a function to print the name and salary of an employee\n",
        "\"ashish\"+str(10000)"
      ]
    },
    {
      "cell_type": "code",
      "execution_count": null,
      "id": "2b854099",
      "metadata": {
        "id": "2b854099",
        "outputId": "371ca2c5-87e8-4a6b-e46c-ee42d18111ab"
      },
      "outputs": [
        {
          "ename": "UnsupportedOperation",
          "evalue": "not writable",
          "output_type": "error",
          "traceback": [
            "\u001b[0;31m---------------------------------------------------------------------------\u001b[0m",
            "\u001b[0;31mUnsupportedOperation\u001b[0m                      Traceback (most recent call last)",
            "\u001b[0;32m/var/folders/hw/qbxwv30d0pd327557k42wrxc0000gp/T/ipykernel_68681/1037803017.py\u001b[0m in \u001b[0;36m<module>\u001b[0;34m\u001b[0m\n\u001b[1;32m      1\u001b[0m \u001b[0mf\u001b[0m\u001b[0;34m=\u001b[0m\u001b[0mopen\u001b[0m\u001b[0;34m(\u001b[0m\u001b[0;34m\"file1.txt\"\u001b[0m\u001b[0;34m)\u001b[0m\u001b[0;34m\u001b[0m\u001b[0;34m\u001b[0m\u001b[0m\n\u001b[0;32m----> 2\u001b[0;31m \u001b[0mf\u001b[0m\u001b[0;34m.\u001b[0m\u001b[0mwrite\u001b[0m\u001b[0;34m(\u001b[0m\u001b[0;34m\"\\n also we are learning how to add a line to a file\"\u001b[0m\u001b[0;34m)\u001b[0m\u001b[0;34m\u001b[0m\u001b[0;34m\u001b[0m\u001b[0m\n\u001b[0m\u001b[1;32m      3\u001b[0m \u001b[0mf\u001b[0m\u001b[0;34m.\u001b[0m\u001b[0mclose\u001b[0m\u001b[0;34m(\u001b[0m\u001b[0;34m)\u001b[0m\u001b[0;34m\u001b[0m\u001b[0;34m\u001b[0m\u001b[0m\n",
            "\u001b[0;31mUnsupportedOperation\u001b[0m: not writable"
          ]
        }
      ],
      "source": [
        "f=open(\"file1.txt\")\n",
        "f.write(\"\\n also we are learning how to add a line to a file\")\n",
        "f.close()"
      ]
    },
    {
      "cell_type": "code",
      "execution_count": null,
      "id": "b63bd483",
      "metadata": {
        "id": "b63bd483",
        "outputId": "615cfbaf-0ae5-4eba-b00d-818d980b934a"
      },
      "outputs": [
        {
          "ename": "IndexError",
          "evalue": "list index out of range",
          "output_type": "error",
          "traceback": [
            "\u001b[0;31m---------------------------------------------------------------------------\u001b[0m",
            "\u001b[0;31mIndexError\u001b[0m                                Traceback (most recent call last)",
            "\u001b[0;32m/var/folders/hw/qbxwv30d0pd327557k42wrxc0000gp/T/ipykernel_68681/2316804041.py\u001b[0m in \u001b[0;36m<module>\u001b[0;34m\u001b[0m\n\u001b[1;32m      1\u001b[0m \u001b[0ml1\u001b[0m\u001b[0;34m=\u001b[0m\u001b[0;34m[\u001b[0m\u001b[0;36m1\u001b[0m\u001b[0;34m,\u001b[0m\u001b[0;36m2\u001b[0m\u001b[0;34m,\u001b[0m\u001b[0;36m3\u001b[0m\u001b[0;34m,\u001b[0m\u001b[0;36m4\u001b[0m\u001b[0;34m,\u001b[0m\u001b[0;36m5\u001b[0m\u001b[0;34m,\u001b[0m\u001b[0;36m6\u001b[0m\u001b[0;34m,\u001b[0m\u001b[0;36m7\u001b[0m\u001b[0;34m,\u001b[0m\u001b[0;36m8\u001b[0m\u001b[0;34m]\u001b[0m\u001b[0;34m\u001b[0m\u001b[0;34m\u001b[0m\u001b[0m\n\u001b[0;32m----> 2\u001b[0;31m \u001b[0ml1\u001b[0m\u001b[0;34m[\u001b[0m\u001b[0;36m8\u001b[0m\u001b[0;34m]\u001b[0m\u001b[0;34m\u001b[0m\u001b[0;34m\u001b[0m\u001b[0m\n\u001b[0m",
            "\u001b[0;31mIndexError\u001b[0m: list index out of range"
          ]
        }
      ],
      "source": [
        "l1=[1,2,3,4,5,6,7,8]\n",
        "l1[8]"
      ]
    },
    {
      "cell_type": "code",
      "execution_count": null,
      "id": "94c8a1a9",
      "metadata": {
        "id": "94c8a1a9",
        "outputId": "793dc15e-06d3-4697-841a-eff0dda1cac1"
      },
      "outputs": [
        {
          "name": "stdout",
          "output_type": "stream",
          "text": [
            "second element is= 2\n",
            "An error occured\n"
          ]
        }
      ],
      "source": [
        "#Error Handling\n",
        "# try and except statement\n",
        "q=[1,2,3]\n",
        "try:\n",
        "    print(\"second element is=\",(q[1]))\n",
        "    print(\"second element is=\",(q[3]))\n",
        "except:\n",
        "    print(\"An error occured\")"
      ]
    },
    {
      "cell_type": "code",
      "execution_count": null,
      "id": "06d683c5",
      "metadata": {
        "id": "06d683c5"
      },
      "outputs": [],
      "source": [
        "#exceptions\n",
        "10*(1/0)# error of division by zero\n",
        "4+(age*2)# age variable is not defined so we will a name error\n"
      ]
    },
    {
      "cell_type": "code",
      "execution_count": null,
      "id": "00c69fd3",
      "metadata": {
        "id": "00c69fd3"
      },
      "outputs": [],
      "source": [
        "#exception  handling\n",
        "while True:\n",
        "    try:\n",
        "        x=int(input(\"enter the number\"))\n",
        "        break\n",
        "    except ValueError:\n",
        "        print(\"no valid input,try Again...\")"
      ]
    },
    {
      "cell_type": "code",
      "execution_count": null,
      "id": "7ebaf651",
      "metadata": {
        "id": "7ebaf651",
        "outputId": "e4ca24cc-45b7-49ef-eff4-ced653571491"
      },
      "outputs": [
        {
          "ename": "NameError",
          "evalue": "Hi there",
          "output_type": "error",
          "traceback": [
            "\u001b[0;31m---------------------------------------------------------------------------\u001b[0m",
            "\u001b[0;31mNameError\u001b[0m                                 Traceback (most recent call last)",
            "\u001b[0;32m/var/folders/hw/qbxwv30d0pd327557k42wrxc0000gp/T/ipykernel_68681/2484686083.py\u001b[0m in \u001b[0;36m<module>\u001b[0;34m\u001b[0m\n\u001b[1;32m      2\u001b[0m \u001b[0;31m#in python we have a specific keyword to raise an exception called Raise, which allows the programmer to\u001b[0m\u001b[0;34m\u001b[0m\u001b[0;34m\u001b[0m\u001b[0m\n\u001b[1;32m      3\u001b[0m \u001b[0;31m#force a specified error to occur\u001b[0m\u001b[0;34m\u001b[0m\u001b[0;34m\u001b[0m\u001b[0m\n\u001b[0;32m----> 4\u001b[0;31m \u001b[0;32mraise\u001b[0m \u001b[0mNameError\u001b[0m\u001b[0;34m(\u001b[0m\u001b[0;34m\"Hi there\"\u001b[0m\u001b[0;34m)\u001b[0m\u001b[0;34m\u001b[0m\u001b[0;34m\u001b[0m\u001b[0m\n\u001b[0m",
            "\u001b[0;31mNameError\u001b[0m: Hi there"
          ]
        }
      ],
      "source": [
        "#Raising the exception\n",
        "#in python we have a specific keyword to raise an exception called Raise, which allows the programmer to\n",
        "#force a specified error to occur\n",
        "raise NameError(\"Hi there\")"
      ]
    },
    {
      "cell_type": "code",
      "execution_count": null,
      "id": "9aad33e1",
      "metadata": {
        "id": "9aad33e1",
        "outputId": "f04fe39a-6e26-4dcc-c671-ae457711729e"
      },
      "outputs": [
        {
          "ename": "RuntimeError",
          "evalue": "unable to handle error",
          "output_type": "error",
          "traceback": [
            "\u001b[0;31m---------------------------------------------------------------------------\u001b[0m",
            "\u001b[0;31mFileNotFoundError\u001b[0m                         Traceback (most recent call last)",
            "\u001b[0;32m/var/folders/hw/qbxwv30d0pd327557k42wrxc0000gp/T/ipykernel_68681/2152838484.py\u001b[0m in \u001b[0;36m<module>\u001b[0;34m\u001b[0m\n\u001b[1;32m      4\u001b[0m \u001b[0;32mtry\u001b[0m\u001b[0;34m:\u001b[0m\u001b[0;34m\u001b[0m\u001b[0;34m\u001b[0m\u001b[0m\n\u001b[0;32m----> 5\u001b[0;31m     \u001b[0mopen\u001b[0m\u001b[0;34m(\u001b[0m\u001b[0;34m\"database.sqlite\"\u001b[0m\u001b[0;34m)\u001b[0m\u001b[0;34m\u001b[0m\u001b[0;34m\u001b[0m\u001b[0m\n\u001b[0m\u001b[1;32m      6\u001b[0m \u001b[0;32mexcept\u001b[0m \u001b[0mOSError\u001b[0m\u001b[0;34m:\u001b[0m\u001b[0;34m\u001b[0m\u001b[0;34m\u001b[0m\u001b[0m\n",
            "\u001b[0;31mFileNotFoundError\u001b[0m: [Errno 2] No such file or directory: 'database.sqlite'",
            "\nDuring handling of the above exception, another exception occurred:\n",
            "\u001b[0;31mRuntimeError\u001b[0m                              Traceback (most recent call last)",
            "\u001b[0;32m/var/folders/hw/qbxwv30d0pd327557k42wrxc0000gp/T/ipykernel_68681/2152838484.py\u001b[0m in \u001b[0;36m<module>\u001b[0;34m\u001b[0m\n\u001b[1;32m      5\u001b[0m     \u001b[0mopen\u001b[0m\u001b[0;34m(\u001b[0m\u001b[0;34m\"database.sqlite\"\u001b[0m\u001b[0;34m)\u001b[0m\u001b[0;34m\u001b[0m\u001b[0;34m\u001b[0m\u001b[0m\n\u001b[1;32m      6\u001b[0m \u001b[0;32mexcept\u001b[0m \u001b[0mOSError\u001b[0m\u001b[0;34m:\u001b[0m\u001b[0;34m\u001b[0m\u001b[0;34m\u001b[0m\u001b[0m\n\u001b[0;32m----> 7\u001b[0;31m     \u001b[0;32mraise\u001b[0m \u001b[0mRuntimeError\u001b[0m\u001b[0;34m(\u001b[0m\u001b[0;34m\"unable to handle error\"\u001b[0m\u001b[0;34m)\u001b[0m\u001b[0;34m\u001b[0m\u001b[0;34m\u001b[0m\u001b[0m\n\u001b[0m",
            "\u001b[0;31mRuntimeError\u001b[0m: unable to handle error"
          ]
        }
      ],
      "source": [
        "#exception chaining\n",
        "#if an unhandled exception occurs inside an except block ,it will have the exception being handled attached\n",
        "#to it and include in the error message\n",
        "try:\n",
        "    open(\"database.sqlite\")\n",
        "except OSError:\n",
        "    raise RuntimeError(\"unable to handle error\")"
      ]
    },
    {
      "cell_type": "code",
      "execution_count": null,
      "id": "a41d9d88",
      "metadata": {
        "id": "a41d9d88",
        "outputId": "2599d6f0-d38b-474d-c777-a0180234acef"
      },
      "outputs": [
        {
          "ename": "TypeError",
          "evalue": "only integers is allowed",
          "output_type": "error",
          "traceback": [
            "\u001b[0;31m---------------------------------------------------------------------------\u001b[0m",
            "\u001b[0;31mTypeError\u001b[0m                                 Traceback (most recent call last)",
            "\u001b[0;32m/var/folders/hw/qbxwv30d0pd327557k42wrxc0000gp/T/ipykernel_68681/2446647458.py\u001b[0m in \u001b[0;36m<module>\u001b[0;34m\u001b[0m\n\u001b[1;32m      2\u001b[0m \u001b[0mx\u001b[0m\u001b[0;34m=\u001b[0m\u001b[0;34m'hello'\u001b[0m\u001b[0;34m\u001b[0m\u001b[0;34m\u001b[0m\u001b[0m\n\u001b[1;32m      3\u001b[0m \u001b[0;32mif\u001b[0m \u001b[0;32mnot\u001b[0m \u001b[0mtype\u001b[0m\u001b[0;34m(\u001b[0m\u001b[0mx\u001b[0m\u001b[0;34m)\u001b[0m \u001b[0;32mis\u001b[0m \u001b[0mint\u001b[0m\u001b[0;34m:\u001b[0m\u001b[0;34m\u001b[0m\u001b[0;34m\u001b[0m\u001b[0m\n\u001b[0;32m----> 4\u001b[0;31m     \u001b[0;32mraise\u001b[0m \u001b[0mTypeError\u001b[0m\u001b[0;34m(\u001b[0m\u001b[0;34m\"only integers is allowed\"\u001b[0m\u001b[0;34m)\u001b[0m\u001b[0;34m\u001b[0m\u001b[0;34m\u001b[0m\u001b[0m\n\u001b[0m",
            "\u001b[0;31mTypeError\u001b[0m: only integers is allowed"
          ]
        }
      ],
      "source": [
        "# raise an error if the data type of the varibale is not int\n",
        "x='hello'\n",
        "if not type(x) is int:\n",
        "    raise TypeError(\"only integers is allowed\")"
      ]
    },
    {
      "cell_type": "code",
      "execution_count": null,
      "id": "685af463",
      "metadata": {
        "id": "685af463"
      },
      "outputs": [],
      "source": [
        "#write a code to raise an error if the elements are not available in the list"
      ]
    },
    {
      "cell_type": "code",
      "execution_count": null,
      "id": "3db4e8f8",
      "metadata": {
        "id": "3db4e8f8",
        "outputId": "ebc8a2c4-2648-4cc1-adb4-fbd0f4ea86ad"
      },
      "outputs": [
        {
          "ename": "ValueError",
          "evalue": "invalid value",
          "output_type": "error",
          "traceback": [
            "\u001b[0;31m---------------------------------------------------------------------------\u001b[0m",
            "\u001b[0;31mValueError\u001b[0m                                Traceback (most recent call last)",
            "\u001b[0;32m/var/folders/hw/qbxwv30d0pd327557k42wrxc0000gp/T/ipykernel_68681/2898673503.py\u001b[0m in \u001b[0;36m<module>\u001b[0;34m\u001b[0m\n\u001b[1;32m      3\u001b[0m     \u001b[0;32mreturn\u001b[0m \u001b[0mexception\u001b[0m\u001b[0;34m(\u001b[0m\u001b[0mmessage\u001b[0m\u001b[0;34m)\u001b[0m\u001b[0;34m\u001b[0m\u001b[0;34m\u001b[0m\u001b[0m\n\u001b[1;32m      4\u001b[0m \u001b[0;34m\u001b[0m\u001b[0m\n\u001b[0;32m----> 5\u001b[0;31m \u001b[0;32mraise\u001b[0m \u001b[0mexception_factory\u001b[0m\u001b[0;34m(\u001b[0m\u001b[0mValueError\u001b[0m\u001b[0;34m,\u001b[0m\u001b[0;34m\"invalid value\"\u001b[0m\u001b[0;34m)\u001b[0m\u001b[0;34m\u001b[0m\u001b[0;34m\u001b[0m\u001b[0m\n\u001b[0m",
            "\u001b[0;31mValueError\u001b[0m: invalid value"
          ]
        }
      ],
      "source": [
        "#creating a function to work on exception handling\n",
        "def exception_factory(exception ,message):\n",
        "    return exception(message)\n",
        "\n",
        "raise exception_factory(ValueError,\"invalid value\")\n"
      ]
    },
    {
      "cell_type": "code",
      "execution_count": null,
      "id": "8cc331f0",
      "metadata": {
        "id": "8cc331f0"
      },
      "outputs": [],
      "source": [
        "#create a function to raise an error in case of if the bandwidth of a site is not defined in the data\n"
      ]
    },
    {
      "cell_type": "code",
      "execution_count": null,
      "id": "59a769ac",
      "metadata": {
        "id": "59a769ac"
      },
      "outputs": [],
      "source": [
        "#custom defined exception handling\n",
        "class InvalidAgeException(Exception):\n",
        "    \"raised when the input is less than 10\"\n",
        "    pass\n",
        "number=18\n",
        "try:\n",
        "    input_num=int(input(\"enter a number\"))\n",
        "    if input_num<number:\n",
        "        raise InvalidAgeException\n",
        "    else:\n",
        "        print(\"Eligible to vote\")\n",
        "except InvalidAgeException:\n",
        "    print(\"Exception occured:Invalid Age\")"
      ]
    },
    {
      "cell_type": "code",
      "execution_count": null,
      "id": "336a4ad2",
      "metadata": {
        "id": "336a4ad2"
      },
      "outputs": [],
      "source": [
        "#create a function to take input values of  3 angles from the user and check if it is traingle or not"
      ]
    }
  ],
  "metadata": {
    "kernelspec": {
      "display_name": "Python 3 (ipykernel)",
      "language": "python",
      "name": "python3"
    },
    "language_info": {
      "codemirror_mode": {
        "name": "ipython",
        "version": 3
      },
      "file_extension": ".py",
      "mimetype": "text/x-python",
      "name": "python",
      "nbconvert_exporter": "python",
      "pygments_lexer": "ipython3",
      "version": "3.9.13"
    },
    "colab": {
      "provenance": []
    }
  },
  "nbformat": 4,
  "nbformat_minor": 5
}