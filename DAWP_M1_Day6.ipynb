{
  "cells": [
    {
      "cell_type": "code",
      "execution_count": null,
      "id": "6443739b",
      "metadata": {
        "id": "6443739b"
      },
      "outputs": [],
      "source": [
        "#creating a class\n",
        "class Myclass:\n",
        "    x=10"
      ]
    },
    {
      "cell_type": "code",
      "execution_count": null,
      "id": "91065a89",
      "metadata": {
        "id": "91065a89",
        "outputId": "13cedffd-fa67-47e9-ea36-57649c734484"
      },
      "outputs": [
        {
          "name": "stdout",
          "output_type": "stream",
          "text": [
            "10\n"
          ]
        }
      ],
      "source": [
        "#define the object for the class\n",
        "obj=Myclass()\n",
        "print(obj.x)"
      ]
    },
    {
      "cell_type": "code",
      "execution_count": null,
      "id": "bf4f122c",
      "metadata": {
        "id": "bf4f122c"
      },
      "outputs": [],
      "source": [
        "#example of structured programming\n",
        "#include <studio.h>\n",
        "struct studentdata{\n",
        "    char *stu_name;\n",
        "    int stu_id;\n",
        "    int stu_age;\n",
        "}"
      ]
    },
    {
      "cell_type": "code",
      "execution_count": null,
      "id": "8cefa6d6",
      "metadata": {
        "id": "8cefa6d6"
      },
      "outputs": [],
      "source": [
        "#INIT function in oop\n",
        "#__init__ method in python is used to initialize objects of a class.It is also called as a constructor."
      ]
    },
    {
      "cell_type": "code",
      "execution_count": null,
      "id": "50077aa4",
      "metadata": {
        "id": "50077aa4",
        "outputId": "34857377-f9ee-4686-c519-61980f3204ff"
      },
      "outputs": [
        {
          "name": "stdout",
          "output_type": "stream",
          "text": [
            "hello my name is Ashish\n"
          ]
        }
      ],
      "source": [
        "#example of __init__ method\n",
        "class Person:\n",
        "    #init method\n",
        "    def __init__(self,name):\n",
        "        self.name=name\n",
        "\n",
        "    #sample method\n",
        "    def greet(self):\n",
        "        print(\"hello my name is\",self.name)\n",
        "\n",
        "p=Person(\"Ashish\")#creating object for class\n",
        "p.greet()"
      ]
    },
    {
      "cell_type": "code",
      "execution_count": null,
      "id": "67b4e017",
      "metadata": {
        "id": "67b4e017",
        "outputId": "030e3acb-7766-43b9-ed94-f3d55c1f89ea"
      },
      "outputs": [
        {
          "name": "stdout",
          "output_type": "stream",
          "text": [
            "hello my name is Ashish\n"
          ]
        }
      ],
      "source": [
        "class Person:\n",
        "    #init method\n",
        "    def __init__(silly,name):\n",
        "        silly.name=name\n",
        "\n",
        "    #sample method\n",
        "    def greet(silly):\n",
        "        print(\"hello my name is\",silly.name)\n",
        "\n",
        "p=Person(\"Ashish\")#creating object for class\n",
        "p.greet()"
      ]
    },
    {
      "cell_type": "code",
      "execution_count": null,
      "id": "269c7df2",
      "metadata": {
        "id": "269c7df2",
        "outputId": "f2dc59e6-e8f0-4057-e7e7-20ab640f33fa"
      },
      "outputs": [
        {
          "name": "stdout",
          "output_type": "stream",
          "text": [
            "flask is available at online\n"
          ]
        }
      ],
      "source": [
        "#inheritance in python\n",
        "class Company:#parent class\n",
        "    prod1=\"flask\"\n",
        "    prod2=\"jar\"\n",
        "    prod3=\"thermo\"\n",
        "class Stores(Company):#store is a child class which inherit from the parent\n",
        "    store1='online'\n",
        "    store2='offline'\n",
        "    store3='on demand'\n",
        "obj=Stores()\n",
        "print(obj.prod1,\"is available at\",obj.store1)"
      ]
    },
    {
      "cell_type": "code",
      "execution_count": null,
      "id": "a833a3ac",
      "metadata": {
        "id": "a833a3ac",
        "outputId": "b13ada29-720a-48f6-f35d-a907fa4122c2"
      },
      "outputs": [
        {
          "name": "stdout",
          "output_type": "stream",
          "text": [
            "Area of the rectangle is 120\n",
            "Area of the square is 25\n"
          ]
        }
      ],
      "source": [
        "#polymorphism\n",
        "class Rectangle:#parent class\n",
        "    def __init__(self,length,breadth):\n",
        "        self.l=length\n",
        "        self.b=breadth\n",
        "    def area(self):#function to calculate area of rectangle\n",
        "        return self.l*self.b\n",
        "\n",
        "class Square:\n",
        "    def __init__(self,side):\n",
        "        self.s=side\n",
        "\n",
        "    def area(self):#applying polymorphism using area function\n",
        "        return self.s**2\n",
        "\n",
        "rec=Rectangle(10,12)\n",
        "squ=Square(5)\n",
        "\n",
        "print(\"Area of the rectangle is\",rec.area())\n",
        "print(\"Area of the square is\",squ.area())"
      ]
    },
    {
      "cell_type": "code",
      "execution_count": null,
      "id": "b8d4afea",
      "metadata": {
        "id": "b8d4afea"
      },
      "outputs": [],
      "source": [
        "class Telecom:\n",
        "    def func(self):\n",
        "        print(\"Optic fiber\")\n",
        "class Signals(Telecom):\n",
        "    def func(self):\n",
        "        print(\"wireless\")\n",
        "\n",
        "obj1=Telecom()\n",
        "obj2=Signals()\n",
        "obj1.func()\n",
        "obj2.func()"
      ]
    },
    {
      "cell_type": "code",
      "execution_count": null,
      "id": "b85873a9",
      "metadata": {
        "id": "b85873a9",
        "outputId": "dc666f78-98a5-449a-f3cc-da42b27efb90"
      },
      "outputs": [
        {
          "name": "stdout",
          "output_type": "stream",
          "text": [
            "4\n",
            "animal is walking\n"
          ]
        }
      ],
      "source": [
        "#encapsulation in python\n",
        "class Animal:\n",
        "    _legs=4\n",
        "\n",
        "    def _walk(self):\n",
        "        print(\"animal is walking\")\n",
        "\n",
        "class Dog(Animal):\n",
        "    def bark(self):\n",
        "        print(\"woof\")\n",
        "\n",
        "d=Dog()\n",
        "print((d._legs))#here _legs is made a protected\n",
        "d._walk()#this will call the _walk method from the animal class\n",
        "\n"
      ]
    },
    {
      "cell_type": "code",
      "execution_count": null,
      "id": "36fe2335",
      "metadata": {
        "id": "36fe2335",
        "outputId": "a64787b7-ab2b-489a-c07d-fa09ca9afe59"
      },
      "outputs": [
        {
          "name": "stdout",
          "output_type": "stream",
          "text": [
            "123\n",
            "465\n"
          ]
        },
        {
          "ename": "AttributeError",
          "evalue": "'Mobile' object has no attribute '__c'",
          "output_type": "error",
          "traceback": [
            "\u001b[0;31m---------------------------------------------------------------------------\u001b[0m",
            "\u001b[0;31mAttributeError\u001b[0m                            Traceback (most recent call last)",
            "\u001b[0;32m/var/folders/hw/qbxwv30d0pd327557k42wrxc0000gp/T/ipykernel_68681/3272967844.py\u001b[0m in \u001b[0;36m<module>\u001b[0;34m\u001b[0m\n\u001b[1;32m      8\u001b[0m \u001b[0mprint\u001b[0m\u001b[0;34m(\u001b[0m\u001b[0mob1\u001b[0m\u001b[0;34m.\u001b[0m\u001b[0ma\u001b[0m\u001b[0;34m)\u001b[0m\u001b[0;31m#public\u001b[0m\u001b[0;34m\u001b[0m\u001b[0;34m\u001b[0m\u001b[0m\n\u001b[1;32m      9\u001b[0m \u001b[0mprint\u001b[0m\u001b[0;34m(\u001b[0m\u001b[0mob1\u001b[0m\u001b[0;34m.\u001b[0m\u001b[0m_b\u001b[0m\u001b[0;34m)\u001b[0m\u001b[0;31m#protected\u001b[0m\u001b[0;34m\u001b[0m\u001b[0;34m\u001b[0m\u001b[0m\n\u001b[0;32m---> 10\u001b[0;31m \u001b[0mprint\u001b[0m\u001b[0;34m(\u001b[0m\u001b[0mob1\u001b[0m\u001b[0;34m.\u001b[0m\u001b[0m__c\u001b[0m\u001b[0;34m)\u001b[0m\u001b[0;31m#private\u001b[0m\u001b[0;34m\u001b[0m\u001b[0;34m\u001b[0m\u001b[0m\n\u001b[0m\u001b[1;32m     11\u001b[0m \u001b[0;34m\u001b[0m\u001b[0m\n",
            "\u001b[0;31mAttributeError\u001b[0m: 'Mobile' object has no attribute '__c'"
          ]
        }
      ],
      "source": [
        "#access modifiers\n",
        "class Mobile:\n",
        "    def __init__(self):\n",
        "        self.a=123\n",
        "        self._b=465\n",
        "        self.__c=123\n",
        "ob1=Mobile()\n",
        "print(ob1.a)#public\n",
        "print(ob1._b)#protected\n",
        "print(ob1.__c)#private\n",
        "\n"
      ]
    },
    {
      "cell_type": "code",
      "execution_count": null,
      "id": "1eeee965",
      "metadata": {
        "id": "1eeee965",
        "outputId": "a2821193-08db-4add-8adc-d9161eeabca0"
      },
      "outputs": [
        {
          "name": "stdout",
          "output_type": "stream",
          "text": [
            "we are inside the test class_task\n",
            "passed value 100\n"
          ]
        }
      ],
      "source": [
        "#abstraction\n",
        "from abc import ABC,abstractmethod\n",
        "class AbcClass(ABC):\n",
        "    def print(self,x):\n",
        "        print(\"passed value\",x)\n",
        "    @abstractmethod\n",
        "    def task(self):\n",
        "        print(\"we are inside the AbcClass\")\n",
        "class test_class(AbcClass):\n",
        "    def task(self):\n",
        "        print(\"we are inside the test class_task\")\n",
        "\n",
        "test_obj=test_class()\n",
        "test_obj.task()\n",
        "test_obj.print(100)\n",
        ""
      ]
    }
  ],
  "metadata": {
    "kernelspec": {
      "display_name": "Python 3 (ipykernel)",
      "language": "python",
      "name": "python3"
    },
    "language_info": {
      "codemirror_mode": {
        "name": "ipython",
        "version": 3
      },
      "file_extension": ".py",
      "mimetype": "text/x-python",
      "name": "python",
      "nbconvert_exporter": "python",
      "pygments_lexer": "ipython3",
      "version": "3.9.13"
    },
    "colab": {
      "provenance": []
    }
  },
  "nbformat": 4,
  "nbformat_minor": 5
}