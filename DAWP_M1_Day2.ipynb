{
  "cells": [
    {
      "cell_type": "markdown",
      "id": "edd334e1",
      "metadata": {
        "id": "edd334e1"
      },
      "source": [
        "#data structure\n",
        "#way to store data in python\n",
        "#list\n",
        "#dictionary\n",
        "#tuple\n",
        "#set"
      ]
    },
    {
      "cell_type": "code",
      "execution_count": null,
      "id": "202a7f3b",
      "metadata": {
        "id": "202a7f3b"
      },
      "outputs": [],
      "source": [
        "#creating first list\n",
        "l1=[1,2,3,\"hello\",56.8,True,False]"
      ]
    },
    {
      "cell_type": "code",
      "execution_count": null,
      "id": "011bf98d",
      "metadata": {
        "id": "011bf98d",
        "outputId": "09801947-d030-48a2-cc1c-bf428c2cc1e0"
      },
      "outputs": [
        {
          "data": {
            "text/plain": [
              "list"
            ]
          },
          "execution_count": 31,
          "metadata": {},
          "output_type": "execute_result"
        }
      ],
      "source": [
        "type(l1)"
      ]
    },
    {
      "cell_type": "code",
      "execution_count": null,
      "id": "8efa806b",
      "metadata": {
        "id": "8efa806b"
      },
      "outputs": [],
      "source": [
        "#using constructor create a list\n",
        "employee=list(('Tom','jerry','Andy','Bob'))"
      ]
    },
    {
      "cell_type": "code",
      "execution_count": null,
      "id": "f7b12e28",
      "metadata": {
        "id": "f7b12e28",
        "outputId": "af793e37-07ae-4c01-f964-c01677a5aeee"
      },
      "outputs": [
        {
          "data": {
            "text/plain": [
              "list"
            ]
          },
          "execution_count": 33,
          "metadata": {},
          "output_type": "execute_result"
        }
      ],
      "source": [
        "type(employee)"
      ]
    },
    {
      "cell_type": "code",
      "execution_count": null,
      "id": "52599386",
      "metadata": {
        "id": "52599386",
        "outputId": "f64f7262-e8d1-4393-fe53-fd058b28681c"
      },
      "outputs": [
        {
          "data": {
            "text/plain": [
              "'hello'"
            ]
          },
          "execution_count": 34,
          "metadata": {},
          "output_type": "execute_result"
        }
      ],
      "source": [
        "#indexing in python and access the element\n",
        "l1[3]#3 is the index position"
      ]
    },
    {
      "cell_type": "code",
      "execution_count": null,
      "id": "5e2454bf",
      "metadata": {
        "id": "5e2454bf",
        "outputId": "05670af5-5b5c-4d9f-bfd0-151efca82133"
      },
      "outputs": [
        {
          "data": {
            "text/plain": [
              "9"
            ]
          },
          "execution_count": 35,
          "metadata": {},
          "output_type": "execute_result"
        }
      ],
      "source": [
        "#counting the elements in the list\n",
        "salary=[34325,23534,5465642,6456,453456464,452345456,5,75434554,65]\n",
        "len(salary)"
      ]
    },
    {
      "cell_type": "code",
      "execution_count": null,
      "id": "fd5ea6c7",
      "metadata": {
        "id": "fd5ea6c7",
        "outputId": "636081a6-23a3-4ba5-9fa3-dcc61889f77f"
      },
      "outputs": [
        {
          "data": {
            "text/plain": [
              "[5465642, 6456, 453456464]"
            ]
          },
          "execution_count": 36,
          "metadata": {},
          "output_type": "execute_result"
        }
      ],
      "source": [
        "#range of index to fetch elements\n",
        "salary[2:5]#the range works for only end-1 index position"
      ]
    },
    {
      "cell_type": "code",
      "execution_count": null,
      "id": "9b5322cf",
      "metadata": {
        "id": "9b5322cf",
        "outputId": "75ac145a-2649-4423-bd55-ad8977249fd4"
      },
      "outputs": [
        {
          "data": {
            "text/plain": [
              "['Tom', 'jerry', 'andy', 'bob']"
            ]
          },
          "execution_count": 37,
          "metadata": {},
          "output_type": "execute_result"
        }
      ],
      "source": [
        "employee"
      ]
    },
    {
      "cell_type": "code",
      "execution_count": null,
      "id": "e1c89a0e",
      "metadata": {
        "id": "e1c89a0e"
      },
      "outputs": [],
      "source": [
        "#update an element in the list\n",
        "employee[1]='sam'"
      ]
    },
    {
      "cell_type": "code",
      "execution_count": null,
      "id": "c8999423",
      "metadata": {
        "id": "c8999423",
        "outputId": "f58be23b-8e04-452d-d889-8acc8488a1ac"
      },
      "outputs": [
        {
          "data": {
            "text/plain": [
              "['Tom', 'sam', 'andy', 'bob']"
            ]
          },
          "execution_count": 39,
          "metadata": {},
          "output_type": "execute_result"
        }
      ],
      "source": [
        "employee"
      ]
    },
    {
      "cell_type": "code",
      "execution_count": null,
      "id": "025e249f",
      "metadata": {
        "id": "025e249f"
      },
      "outputs": [],
      "source": [
        "#addding an element at the end of the list\n",
        "employee.append('Hello')"
      ]
    },
    {
      "cell_type": "code",
      "execution_count": null,
      "id": "ad75bbef",
      "metadata": {
        "id": "ad75bbef",
        "outputId": "9280e124-8125-42e7-9fd1-ad1a87775760"
      },
      "outputs": [
        {
          "data": {
            "text/plain": [
              "['Tom', 'sam', 'andy', 'bob', 'Hello']"
            ]
          },
          "execution_count": 41,
          "metadata": {},
          "output_type": "execute_result"
        }
      ],
      "source": [
        "employee"
      ]
    },
    {
      "cell_type": "code",
      "execution_count": null,
      "id": "77b599e0",
      "metadata": {
        "id": "77b599e0"
      },
      "outputs": [],
      "source": [
        "#adding a value at index position\n",
        "employee.insert(3,\"welcome\")"
      ]
    },
    {
      "cell_type": "code",
      "execution_count": null,
      "id": "443d133a",
      "metadata": {
        "id": "443d133a",
        "outputId": "441deb0f-d3ca-4517-fcad-6a987f45d2e6"
      },
      "outputs": [
        {
          "data": {
            "text/plain": [
              "['Tom', 'sam', 'andy', 'welcome', 'bob', 'Hello']"
            ]
          },
          "execution_count": 43,
          "metadata": {},
          "output_type": "execute_result"
        }
      ],
      "source": [
        "employee"
      ]
    },
    {
      "cell_type": "code",
      "execution_count": null,
      "id": "cdd8b38c",
      "metadata": {
        "id": "cdd8b38c"
      },
      "outputs": [],
      "source": [
        "employee.remove('welcome')"
      ]
    },
    {
      "cell_type": "code",
      "execution_count": null,
      "id": "71b74ef5",
      "metadata": {
        "id": "71b74ef5",
        "outputId": "8fc9e6c3-c727-407b-859b-07aa62757b53"
      },
      "outputs": [
        {
          "data": {
            "text/plain": [
              "['Tom', 'sam', 'andy', 'bob', 'Hello']"
            ]
          },
          "execution_count": 45,
          "metadata": {},
          "output_type": "execute_result"
        }
      ],
      "source": [
        "employee"
      ]
    },
    {
      "cell_type": "code",
      "execution_count": null,
      "id": "82d56c50",
      "metadata": {
        "id": "82d56c50"
      },
      "outputs": [],
      "source": [
        "#extending a list\n",
        "new_employee=['John','Mika','Rob','Emily']\n",
        "employee.extend(new_employee)"
      ]
    },
    {
      "cell_type": "code",
      "execution_count": null,
      "id": "0c9a6081",
      "metadata": {
        "id": "0c9a6081",
        "outputId": "04183c43-4aff-42f0-d755-548843f167fe"
      },
      "outputs": [
        {
          "data": {
            "text/plain": [
              "['Tom', 'jerry', 'Andy', 'Bob', 'John', 'Mika', 'Rob', 'Emily']"
            ]
          },
          "execution_count": 52,
          "metadata": {},
          "output_type": "execute_result"
        }
      ],
      "source": [
        "employee"
      ]
    },
    {
      "cell_type": "code",
      "execution_count": null,
      "id": "ea0c664b",
      "metadata": {
        "id": "ea0c664b"
      },
      "outputs": [],
      "source": [
        "#sorting the list\n",
        "employee.sort()"
      ]
    },
    {
      "cell_type": "code",
      "execution_count": null,
      "id": "d832846f",
      "metadata": {
        "id": "d832846f",
        "outputId": "8251d3c6-5683-4d2e-85d2-729c72661570"
      },
      "outputs": [
        {
          "data": {
            "text/plain": [
              "['Andy', 'Bob', 'Emily', 'John', 'Mika', 'Rob', 'Tom', 'jerry']"
            ]
          },
          "execution_count": 54,
          "metadata": {},
          "output_type": "execute_result"
        }
      ],
      "source": [
        "employee"
      ]
    },
    {
      "cell_type": "code",
      "execution_count": null,
      "id": "59f22fe3",
      "metadata": {
        "id": "59f22fe3"
      },
      "outputs": [],
      "source": [
        "l3=[1,2,3,4,5]\n",
        "l4=[9,8,6,6,5,4,3,3]"
      ]
    },
    {
      "cell_type": "code",
      "execution_count": null,
      "id": "a7121d8e",
      "metadata": {
        "id": "a7121d8e"
      },
      "outputs": [],
      "source": [
        "l5=l3+l4"
      ]
    },
    {
      "cell_type": "code",
      "execution_count": null,
      "id": "584af091",
      "metadata": {
        "id": "584af091",
        "outputId": "36cc7176-2c16-450c-e63c-be1bb13a5ed8"
      },
      "outputs": [
        {
          "data": {
            "text/plain": [
              "[1, 2, 3, 4, 5, 9, 8, 6, 6, 5, 4, 3, 3]"
            ]
          },
          "execution_count": 58,
          "metadata": {},
          "output_type": "execute_result"
        }
      ],
      "source": [
        "l5"
      ]
    },
    {
      "cell_type": "code",
      "execution_count": null,
      "id": "0ced86a4",
      "metadata": {
        "id": "0ced86a4"
      },
      "outputs": [],
      "source": [
        "###########################  Dictionary #############################"
      ]
    },
    {
      "cell_type": "code",
      "execution_count": null,
      "id": "32da3712",
      "metadata": {
        "id": "32da3712"
      },
      "outputs": [],
      "source": [
        "customers={'Tom':12,'Bob':13,'Andy':14,17:'Tom'}"
      ]
    },
    {
      "cell_type": "code",
      "execution_count": null,
      "id": "2e12bbda",
      "metadata": {
        "id": "2e12bbda",
        "outputId": "1d3f7e31-43ef-4214-f454-fd98710fa188"
      },
      "outputs": [
        {
          "data": {
            "text/plain": [
              "dict"
            ]
          },
          "execution_count": 60,
          "metadata": {},
          "output_type": "execute_result"
        }
      ],
      "source": [
        "type(customers)"
      ]
    },
    {
      "cell_type": "code",
      "execution_count": null,
      "id": "626020df",
      "metadata": {
        "id": "626020df",
        "outputId": "a8f549fe-62a0-4689-88d5-f1adda32bb13"
      },
      "outputs": [
        {
          "data": {
            "text/plain": [
              "13"
            ]
          },
          "execution_count": 61,
          "metadata": {},
          "output_type": "execute_result"
        }
      ],
      "source": [
        "#fecting a value from dictionary\n",
        "#we use key to fetch value from dictionary\n",
        "customers['Bob']"
      ]
    },
    {
      "cell_type": "code",
      "execution_count": null,
      "id": "0a3fc781",
      "metadata": {
        "id": "0a3fc781",
        "outputId": "39fb257d-99c0-4ed0-9b17-5a0af49d87b6"
      },
      "outputs": [
        {
          "data": {
            "text/plain": [
              "14"
            ]
          },
          "execution_count": 62,
          "metadata": {},
          "output_type": "execute_result"
        }
      ],
      "source": [
        "customers.get(('Andy'))"
      ]
    },
    {
      "cell_type": "code",
      "execution_count": null,
      "id": "99b30ad8",
      "metadata": {
        "id": "99b30ad8"
      },
      "outputs": [],
      "source": [
        "#using constructor\n",
        "emp_salary=dict([('sam',2342),('vicky',3542),('john',46546)])"
      ]
    },
    {
      "cell_type": "code",
      "execution_count": null,
      "id": "67066599",
      "metadata": {
        "id": "67066599",
        "outputId": "648e0476-b5c1-4c64-d198-39155656c429"
      },
      "outputs": [
        {
          "data": {
            "text/plain": [
              "dict"
            ]
          },
          "execution_count": 65,
          "metadata": {},
          "output_type": "execute_result"
        }
      ],
      "source": [
        "type(emp_salary)"
      ]
    },
    {
      "cell_type": "code",
      "execution_count": null,
      "id": "f8be9382",
      "metadata": {
        "id": "f8be9382"
      },
      "outputs": [],
      "source": [
        "#deleting a value from dictionary\n",
        "del emp_salary['sam']"
      ]
    },
    {
      "cell_type": "code",
      "execution_count": null,
      "id": "ac870f2c",
      "metadata": {
        "id": "ac870f2c",
        "outputId": "674f7fb8-cf06-4243-b1e3-d90c41b19c3f"
      },
      "outputs": [
        {
          "data": {
            "text/plain": [
              "{'vicky': 3542, 'john': 46546}"
            ]
          },
          "execution_count": 67,
          "metadata": {},
          "output_type": "execute_result"
        }
      ],
      "source": [
        "emp_salary"
      ]
    },
    {
      "cell_type": "code",
      "execution_count": null,
      "id": "46b2867f",
      "metadata": {
        "id": "46b2867f",
        "outputId": "c6b9d464-c790-4e7f-f1a8-0b9bcab1547e"
      },
      "outputs": [
        {
          "data": {
            "text/plain": [
              "{'Tom': 12, 'Bob': 13, 'Andy': 14, 17: 'Tom'}"
            ]
          },
          "execution_count": 68,
          "metadata": {},
          "output_type": "execute_result"
        }
      ],
      "source": [
        "customers"
      ]
    },
    {
      "cell_type": "code",
      "execution_count": null,
      "id": "78712047",
      "metadata": {
        "id": "78712047"
      },
      "outputs": [],
      "source": [
        "#poping a key from dictionary\n",
        "old_customers=customers.pop('Andy')"
      ]
    },
    {
      "cell_type": "code",
      "execution_count": null,
      "id": "f7cf0d57",
      "metadata": {
        "id": "f7cf0d57",
        "outputId": "9f6e012a-3ced-4676-c967-352574846742"
      },
      "outputs": [
        {
          "data": {
            "text/plain": [
              "{'Tom': 12, 'Bob': 13, 17: 'Tom'}"
            ]
          },
          "execution_count": 70,
          "metadata": {},
          "output_type": "execute_result"
        }
      ],
      "source": [
        "customers"
      ]
    },
    {
      "cell_type": "code",
      "execution_count": null,
      "id": "a3e03ac1",
      "metadata": {
        "id": "a3e03ac1",
        "outputId": "90a27b8c-951c-4ccd-a550-ed93740d5eb7"
      },
      "outputs": [
        {
          "data": {
            "text/plain": [
              "14"
            ]
          },
          "execution_count": 71,
          "metadata": {},
          "output_type": "execute_result"
        }
      ],
      "source": [
        "old_customers"
      ]
    },
    {
      "cell_type": "code",
      "execution_count": null,
      "id": "ae9e80b6",
      "metadata": {
        "id": "ae9e80b6",
        "outputId": "49ebf584-d193-483a-db2c-576ed9e085e1"
      },
      "outputs": [
        {
          "name": "stdout",
          "output_type": "stream",
          "text": [
            "['Tom', 'Bob', 17]\n"
          ]
        }
      ],
      "source": [
        "keys=list(customers.keys())\n",
        "print(keys)"
      ]
    },
    {
      "cell_type": "code",
      "execution_count": null,
      "id": "985b0231",
      "metadata": {
        "id": "985b0231",
        "outputId": "f9ebd86a-1a70-4759-80fc-811abbb05e62"
      },
      "outputs": [
        {
          "name": "stdout",
          "output_type": "stream",
          "text": [
            "[12, 13, 'Tom']\n"
          ]
        }
      ],
      "source": [
        "values=list(customers.values())\n",
        "print(values)"
      ]
    },
    {
      "cell_type": "code",
      "execution_count": null,
      "id": "bcc49dd6",
      "metadata": {
        "id": "bcc49dd6"
      },
      "outputs": [],
      "source": [
        "new_customer={'hulk':5}"
      ]
    },
    {
      "cell_type": "code",
      "execution_count": null,
      "id": "69becc30",
      "metadata": {
        "id": "69becc30"
      },
      "outputs": [],
      "source": [
        "#updating a dicitonary\n",
        "customers.update(new_customer)"
      ]
    },
    {
      "cell_type": "code",
      "execution_count": null,
      "id": "32a9518a",
      "metadata": {
        "id": "32a9518a",
        "outputId": "a688c594-2f20-4470-92b0-d4301cb8f094"
      },
      "outputs": [
        {
          "data": {
            "text/plain": [
              "{'Tom': 12, 'Bob': 13, 17: 'Tom', 'hulk': 5}"
            ]
          },
          "execution_count": 76,
          "metadata": {},
          "output_type": "execute_result"
        }
      ],
      "source": [
        "customers"
      ]
    },
    {
      "cell_type": "code",
      "execution_count": null,
      "id": "da32a585",
      "metadata": {
        "id": "da32a585"
      },
      "outputs": [],
      "source": [
        "############################# Tuple ##########################"
      ]
    },
    {
      "cell_type": "code",
      "execution_count": null,
      "id": "8f1e0743",
      "metadata": {
        "id": "8f1e0743"
      },
      "outputs": [],
      "source": [
        "t1=(1,2,3,'Hello',True,False,67.8)"
      ]
    },
    {
      "cell_type": "code",
      "execution_count": null,
      "id": "16dcb173",
      "metadata": {
        "id": "16dcb173",
        "outputId": "1727e4e5-a4d4-4c7d-cce9-aec15c7f6fac"
      },
      "outputs": [
        {
          "data": {
            "text/plain": [
              "tuple"
            ]
          },
          "execution_count": 78,
          "metadata": {},
          "output_type": "execute_result"
        }
      ],
      "source": [
        "type(t1)"
      ]
    },
    {
      "cell_type": "code",
      "execution_count": null,
      "id": "25c2682e",
      "metadata": {
        "id": "25c2682e",
        "outputId": "710e1fb5-7078-4344-8712-703b0361eab6"
      },
      "outputs": [
        {
          "data": {
            "text/plain": [
              "7"
            ]
          },
          "execution_count": 79,
          "metadata": {},
          "output_type": "execute_result"
        }
      ],
      "source": [
        "len(t1)"
      ]
    },
    {
      "cell_type": "code",
      "execution_count": null,
      "id": "f5c9b3b3",
      "metadata": {
        "id": "f5c9b3b3"
      },
      "outputs": [],
      "source": [
        "#creating single element tuple\n",
        "t2=('Welcome',)"
      ]
    },
    {
      "cell_type": "code",
      "execution_count": null,
      "id": "58f5be48",
      "metadata": {
        "id": "58f5be48",
        "outputId": "5ac28e35-2ba5-4dfd-90e6-27a206e4c244"
      },
      "outputs": [
        {
          "data": {
            "text/plain": [
              "tuple"
            ]
          },
          "execution_count": 81,
          "metadata": {},
          "output_type": "execute_result"
        }
      ],
      "source": [
        "type(t2)"
      ]
    },
    {
      "cell_type": "code",
      "execution_count": null,
      "id": "585c1be4",
      "metadata": {
        "id": "585c1be4",
        "outputId": "080174b0-af99-4ac6-a81c-a87992bdc3eb"
      },
      "outputs": [
        {
          "data": {
            "text/plain": [
              "'Hello'"
            ]
          },
          "execution_count": 82,
          "metadata": {},
          "output_type": "execute_result"
        }
      ],
      "source": [
        "t1[3]"
      ]
    },
    {
      "cell_type": "code",
      "execution_count": null,
      "id": "e631e92a",
      "metadata": {
        "id": "e631e92a",
        "outputId": "bc94a4ac-9f42-4597-ffd5-e5466c1d6168"
      },
      "outputs": [
        {
          "ename": "TypeError",
          "evalue": "'tuple' object does not support item assignment",
          "output_type": "error",
          "traceback": [
            "\u001b[0;31m---------------------------------------------------------------------------\u001b[0m",
            "\u001b[0;31mTypeError\u001b[0m                                 Traceback (most recent call last)",
            "\u001b[0;32m/var/folders/hw/qbxwv30d0pd327557k42wrxc0000gp/T/ipykernel_68681/1853503811.py\u001b[0m in \u001b[0;36m<module>\u001b[0;34m\u001b[0m\n\u001b[0;32m----> 1\u001b[0;31m \u001b[0mt1\u001b[0m\u001b[0;34m[\u001b[0m\u001b[0;36m3\u001b[0m\u001b[0;34m]\u001b[0m\u001b[0;34m=\u001b[0m\u001b[0;34m'maxis'\u001b[0m\u001b[0;34m\u001b[0m\u001b[0;34m\u001b[0m\u001b[0m\n\u001b[0m",
            "\u001b[0;31mTypeError\u001b[0m: 'tuple' object does not support item assignment"
          ]
        }
      ],
      "source": [
        "t1[3]='maxis'"
      ]
    },
    {
      "cell_type": "code",
      "execution_count": null,
      "id": "1780c60e",
      "metadata": {
        "id": "1780c60e",
        "outputId": "61fa626e-a467-47c6-fa15-7b9098bae689"
      },
      "outputs": [
        {
          "name": "stdout",
          "output_type": "stream",
          "text": [
            "('north', 'south', 'east', 'west', 'central')\n"
          ]
        }
      ],
      "source": [
        "#manipulating a tuple\n",
        "sites=('north','south','east','west')\n",
        "x=list(sites)\n",
        "x.append('central')\n",
        "sites=tuple(x)\n",
        "print(sites)"
      ]
    },
    {
      "cell_type": "code",
      "execution_count": null,
      "id": "58017765",
      "metadata": {
        "id": "58017765"
      },
      "outputs": [],
      "source": [
        "#concatenate tuple\n",
        "tup1=tuple((1,2,3,4,5,6))\n",
        "tup2=(9,8,7,6,5,4,3)"
      ]
    },
    {
      "cell_type": "code",
      "execution_count": null,
      "id": "5d1da0e8",
      "metadata": {
        "id": "5d1da0e8"
      },
      "outputs": [],
      "source": [
        "tup3=tup1+tup2"
      ]
    },
    {
      "cell_type": "code",
      "execution_count": null,
      "id": "1fa327fe",
      "metadata": {
        "id": "1fa327fe",
        "outputId": "8045a63a-da31-498e-b6f8-be007ffbc60c"
      },
      "outputs": [
        {
          "data": {
            "text/plain": [
              "(1, 2, 3, 4, 5, 6, 9, 8, 7, 6, 5, 4, 3)"
            ]
          },
          "execution_count": 87,
          "metadata": {},
          "output_type": "execute_result"
        }
      ],
      "source": [
        "tup3"
      ]
    },
    {
      "cell_type": "code",
      "execution_count": null,
      "id": "72d49f32",
      "metadata": {
        "id": "72d49f32",
        "outputId": "0a99e044-6cf4-49cd-81ea-b5d05be08a10"
      },
      "outputs": [
        {
          "data": {
            "text/plain": [
              "tuple"
            ]
          },
          "execution_count": 88,
          "metadata": {},
          "output_type": "execute_result"
        }
      ],
      "source": [
        "type(tup3)"
      ]
    },
    {
      "cell_type": "code",
      "execution_count": null,
      "id": "ccff2baf",
      "metadata": {
        "id": "ccff2baf",
        "outputId": "239c51a0-41a5-4273-e95b-d686bf4d7240"
      },
      "outputs": [
        {
          "data": {
            "text/plain": [
              "('north', 'south', 'east', 'west', 'central')"
            ]
          },
          "execution_count": 89,
          "metadata": {},
          "output_type": "execute_result"
        }
      ],
      "source": [
        "#unpacking a tuple\n",
        "sites"
      ]
    },
    {
      "cell_type": "code",
      "execution_count": null,
      "id": "1d85d677",
      "metadata": {
        "id": "1d85d677"
      },
      "outputs": [],
      "source": [
        "good,*bad,excellent=sites"
      ]
    },
    {
      "cell_type": "code",
      "execution_count": null,
      "id": "ac835830",
      "metadata": {
        "id": "ac835830",
        "outputId": "d43c280d-c4f5-49f0-81fa-4c15049fc47c"
      },
      "outputs": [
        {
          "data": {
            "text/plain": [
              "'north'"
            ]
          },
          "execution_count": 96,
          "metadata": {},
          "output_type": "execute_result"
        }
      ],
      "source": [
        "good"
      ]
    },
    {
      "cell_type": "code",
      "execution_count": null,
      "id": "c9692a59",
      "metadata": {
        "id": "c9692a59",
        "outputId": "1e41ffed-4025-4f65-bee1-a67aeff64e29"
      },
      "outputs": [
        {
          "data": {
            "text/plain": [
              "['south', 'east', 'west']"
            ]
          },
          "execution_count": 97,
          "metadata": {},
          "output_type": "execute_result"
        }
      ],
      "source": [
        "bad"
      ]
    },
    {
      "cell_type": "code",
      "execution_count": null,
      "id": "1934f7fd",
      "metadata": {
        "id": "1934f7fd",
        "outputId": "6c680202-385d-40a9-cdaa-4d60d7ad830d"
      },
      "outputs": [
        {
          "data": {
            "text/plain": [
              "['east', 'west', 'central']"
            ]
          },
          "execution_count": 94,
          "metadata": {},
          "output_type": "execute_result"
        }
      ],
      "source": [
        "excellent"
      ]
    },
    {
      "cell_type": "code",
      "execution_count": null,
      "id": "5423a351",
      "metadata": {
        "id": "5423a351",
        "outputId": "7b01fb07-7d4f-466a-ebce-9cab6ea1eb19"
      },
      "outputs": [
        {
          "data": {
            "text/plain": [
              "['central', 'east', 'north', 'south', 'west']"
            ]
          },
          "execution_count": 98,
          "metadata": {},
          "output_type": "execute_result"
        }
      ],
      "source": [
        "sorted(sites)"
      ]
    },
    {
      "cell_type": "code",
      "execution_count": null,
      "id": "11a93c99",
      "metadata": {
        "id": "11a93c99"
      },
      "outputs": [],
      "source": [
        "############################## Set ##########################"
      ]
    },
    {
      "cell_type": "code",
      "execution_count": null,
      "id": "4868a08a",
      "metadata": {
        "id": "4868a08a"
      },
      "outputs": [],
      "source": [
        "s1={1,2,3,True,'hello',9,3,6,2}"
      ]
    },
    {
      "cell_type": "code",
      "execution_count": null,
      "id": "f987569a",
      "metadata": {
        "id": "f987569a",
        "outputId": "88d14070-934b-4700-e5ae-d4d5dda03d93"
      },
      "outputs": [
        {
          "data": {
            "text/plain": [
              "{1, 2, 3, 6, 9, 'hello'}"
            ]
          },
          "execution_count": 100,
          "metadata": {},
          "output_type": "execute_result"
        }
      ],
      "source": [
        "s1"
      ]
    },
    {
      "cell_type": "code",
      "execution_count": null,
      "id": "9f933f3e",
      "metadata": {
        "id": "9f933f3e",
        "outputId": "62bf6264-b1ba-4207-d2b6-f50c3f2eef5e"
      },
      "outputs": [
        {
          "data": {
            "text/plain": [
              "6"
            ]
          },
          "execution_count": 101,
          "metadata": {},
          "output_type": "execute_result"
        }
      ],
      "source": [
        "len(s1)"
      ]
    },
    {
      "cell_type": "code",
      "execution_count": null,
      "id": "391b5ce8",
      "metadata": {
        "id": "391b5ce8"
      },
      "outputs": [],
      "source": [
        "#using constructor\n",
        "s2=set((9,7,5,2,4,5,2,2))"
      ]
    },
    {
      "cell_type": "code",
      "execution_count": null,
      "id": "d40d62bd",
      "metadata": {
        "id": "d40d62bd",
        "outputId": "9adcc558-02b9-4dbd-819d-3e38461d130b"
      },
      "outputs": [
        {
          "data": {
            "text/plain": [
              "set"
            ]
          },
          "execution_count": 104,
          "metadata": {},
          "output_type": "execute_result"
        }
      ],
      "source": [
        "type(s2)"
      ]
    },
    {
      "cell_type": "code",
      "execution_count": null,
      "id": "1bdc2341",
      "metadata": {
        "id": "1bdc2341"
      },
      "outputs": [],
      "source": [
        "#adding a value in set\n",
        "s2.add('Hello')"
      ]
    },
    {
      "cell_type": "code",
      "execution_count": null,
      "id": "286716a5",
      "metadata": {
        "id": "286716a5",
        "outputId": "f5addc1d-af4d-4805-c5e7-333dd3ef7f83"
      },
      "outputs": [
        {
          "data": {
            "text/plain": [
              "{2, 4, 5, 7, 9, 'Hello'}"
            ]
          },
          "execution_count": 106,
          "metadata": {},
          "output_type": "execute_result"
        }
      ],
      "source": [
        "s2"
      ]
    },
    {
      "cell_type": "code",
      "execution_count": null,
      "id": "3584980b",
      "metadata": {
        "id": "3584980b"
      },
      "outputs": [],
      "source": [
        "s2.remove('Hello')"
      ]
    },
    {
      "cell_type": "code",
      "execution_count": null,
      "id": "f215e132",
      "metadata": {
        "id": "f215e132",
        "outputId": "26e5b2ee-b9ad-4e6b-d2ed-074c3586162a"
      },
      "outputs": [
        {
          "data": {
            "text/plain": [
              "{2, 4, 5, 7, 9}"
            ]
          },
          "execution_count": 108,
          "metadata": {},
          "output_type": "execute_result"
        }
      ],
      "source": [
        "s2"
      ]
    },
    {
      "cell_type": "code",
      "execution_count": null,
      "id": "02721b53",
      "metadata": {
        "id": "02721b53",
        "outputId": "32c9ab74-093a-4d46-b786-7f97461f1c74"
      },
      "outputs": [
        {
          "ename": "KeyError",
          "evalue": "'Hello'",
          "output_type": "error",
          "traceback": [
            "\u001b[0;31m---------------------------------------------------------------------------\u001b[0m",
            "\u001b[0;31mKeyError\u001b[0m                                  Traceback (most recent call last)",
            "\u001b[0;32m/var/folders/hw/qbxwv30d0pd327557k42wrxc0000gp/T/ipykernel_68681/3025842224.py\u001b[0m in \u001b[0;36m<module>\u001b[0;34m\u001b[0m\n\u001b[0;32m----> 1\u001b[0;31m \u001b[0ms2\u001b[0m\u001b[0;34m.\u001b[0m\u001b[0mremove\u001b[0m\u001b[0;34m(\u001b[0m\u001b[0;34m'Hello'\u001b[0m\u001b[0;34m)\u001b[0m\u001b[0;34m\u001b[0m\u001b[0;34m\u001b[0m\u001b[0m\n\u001b[0m",
            "\u001b[0;31mKeyError\u001b[0m: 'Hello'"
          ]
        }
      ],
      "source": [
        "s2.remove('Hello')"
      ]
    },
    {
      "cell_type": "code",
      "execution_count": null,
      "id": "a9ae612b",
      "metadata": {
        "id": "a9ae612b"
      },
      "outputs": [],
      "source": [
        "#updating two sets\n",
        "s1.update(s2)"
      ]
    },
    {
      "cell_type": "code",
      "execution_count": null,
      "id": "767e0188",
      "metadata": {
        "id": "767e0188",
        "outputId": "a1a3b05d-49b7-4f70-90d4-1526c779ff90"
      },
      "outputs": [
        {
          "data": {
            "text/plain": [
              "{1, 2, 3, 4, 5, 6, 7, 9, 'hello'}"
            ]
          },
          "execution_count": 111,
          "metadata": {},
          "output_type": "execute_result"
        }
      ],
      "source": [
        "s1"
      ]
    },
    {
      "cell_type": "code",
      "execution_count": null,
      "id": "ed742d11",
      "metadata": {
        "id": "ed742d11"
      },
      "outputs": [],
      "source": [
        "s3={2,5,7,8,4,6,7,9,6,2,3}\n",
        "s4={8,4,2,5,4,2,6,8}"
      ]
    },
    {
      "cell_type": "code",
      "execution_count": null,
      "id": "c8dd8930",
      "metadata": {
        "id": "c8dd8930"
      },
      "outputs": [],
      "source": [
        "set1=s3.union(s4)"
      ]
    },
    {
      "cell_type": "code",
      "execution_count": null,
      "id": "3a986aba",
      "metadata": {
        "id": "3a986aba",
        "outputId": "346fe20e-d455-48c1-ef48-6eca40c9c6de"
      },
      "outputs": [
        {
          "data": {
            "text/plain": [
              "{2, 3, 4, 5, 6, 7, 8, 9}"
            ]
          },
          "execution_count": 114,
          "metadata": {},
          "output_type": "execute_result"
        }
      ],
      "source": [
        "set1"
      ]
    },
    {
      "cell_type": "code",
      "execution_count": null,
      "id": "91313385",
      "metadata": {
        "id": "91313385",
        "outputId": "c096bd8f-d2a4-4841-b253-bb3efe1526b0"
      },
      "outputs": [
        {
          "data": {
            "text/plain": [
              "{2, 4, 5, 6, 8}"
            ]
          },
          "execution_count": 115,
          "metadata": {},
          "output_type": "execute_result"
        }
      ],
      "source": [
        "s3.intersection(s4)"
      ]
    },
    {
      "cell_type": "code",
      "execution_count": null,
      "id": "a9034127",
      "metadata": {
        "id": "a9034127",
        "outputId": "98ed92a1-c09b-44bd-c0b5-769f3904946c"
      },
      "outputs": [
        {
          "name": "stdout",
          "output_type": "stream",
          "text": [
            "{'Banana', 'cherry'}\n"
          ]
        }
      ],
      "source": [
        "#difference between set\n",
        "x={'apple','Banana','cherry'}#we will get only those elements from the fisrt set which are proesent, but not\n",
        "y={'google','microsoft','apple'}#which are in y set\n",
        "z=x.difference(y)\n",
        "print(z)"
      ]
    },
    {
      "cell_type": "code",
      "execution_count": null,
      "id": "6c0a5903",
      "metadata": {
        "id": "6c0a5903"
      },
      "outputs": [],
      "source": [
        "city={'a','b','c'}\n",
        "town={'d','a','e','t','f'}"
      ]
    },
    {
      "cell_type": "code",
      "execution_count": null,
      "id": "6ca9d828",
      "metadata": {
        "id": "6ca9d828"
      },
      "outputs": [],
      "source": [
        "q=city.issubset(town)"
      ]
    },
    {
      "cell_type": "code",
      "execution_count": null,
      "id": "f5c48268",
      "metadata": {
        "id": "f5c48268",
        "outputId": "328fd62b-d6ee-4b84-d56f-f32fd3d81a6a"
      },
      "outputs": [
        {
          "data": {
            "text/plain": [
              "False"
            ]
          },
          "execution_count": 120,
          "metadata": {},
          "output_type": "execute_result"
        }
      ],
      "source": [
        "q"
      ]
    },
    {
      "cell_type": "code",
      "execution_count": null,
      "id": "83ed8d7d",
      "metadata": {
        "id": "83ed8d7d",
        "outputId": "da0a6188-3cac-4a89-f5a1-dd31d30114b7"
      },
      "outputs": [
        {
          "data": {
            "text/plain": [
              "'t'"
            ]
          },
          "execution_count": 123,
          "metadata": {},
          "output_type": "execute_result"
        }
      ],
      "source": [
        "w=town.pop()"
      ]
    }
  ],
  "metadata": {
    "kernelspec": {
      "display_name": "Python 3 (ipykernel)",
      "language": "python",
      "name": "python3"
    },
    "language_info": {
      "codemirror_mode": {
        "name": "ipython",
        "version": 3
      },
      "file_extension": ".py",
      "mimetype": "text/x-python",
      "name": "python",
      "nbconvert_exporter": "python",
      "pygments_lexer": "ipython3",
      "version": "3.9.13"
    },
    "colab": {
      "provenance": []
    }
  },
  "nbformat": 4,
  "nbformat_minor": 5
}