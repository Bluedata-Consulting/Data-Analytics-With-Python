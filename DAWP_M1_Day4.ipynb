{
  "cells": [
    {
      "cell_type": "code",
      "execution_count": null,
      "id": "eb4f2f70",
      "metadata": {
        "id": "eb4f2f70"
      },
      "outputs": [],
      "source": [
        "#function for greet\n",
        "def greet():\n",
        "    print(\"hello\")"
      ]
    },
    {
      "cell_type": "code",
      "execution_count": null,
      "id": "3f9fdc40",
      "metadata": {
        "id": "3f9fdc40",
        "outputId": "98a04ab0-b16e-4d75-9896-fc7eaa2a3c86"
      },
      "outputs": [
        {
          "name": "stdout",
          "output_type": "stream",
          "text": [
            "hello\n"
          ]
        }
      ],
      "source": [
        "#calling the function\n",
        "greet()"
      ]
    },
    {
      "cell_type": "code",
      "execution_count": null,
      "id": "9bfe6a10",
      "metadata": {
        "id": "9bfe6a10"
      },
      "outputs": [],
      "source": [
        "#function with parameter\n",
        "def greet(name):\n",
        "    print(\"hello\",name)"
      ]
    },
    {
      "cell_type": "code",
      "execution_count": null,
      "id": "17164c20",
      "metadata": {
        "id": "17164c20",
        "outputId": "e02484de-b5a1-479b-e537-f20b83694615"
      },
      "outputs": [
        {
          "name": "stdout",
          "output_type": "stream",
          "text": [
            "hello 5765\n"
          ]
        }
      ],
      "source": [
        "#call the fucntion with parameter value\n",
        "greet(5765)"
      ]
    },
    {
      "cell_type": "code",
      "execution_count": null,
      "id": "2e7e8f97",
      "metadata": {
        "id": "2e7e8f97",
        "outputId": "b5455be4-4890-4286-b0cf-656cc45cf72f"
      },
      "outputs": [
        {
          "name": "stdout",
          "output_type": "stream",
          "text": [
            "the sum is: 30\n"
          ]
        }
      ],
      "source": [
        "def add():\n",
        "    a=10\n",
        "    b=20\n",
        "    c=a+b\n",
        "    return c\n",
        "print(\"the sum is:\",add())#called the function inside the print"
      ]
    },
    {
      "cell_type": "code",
      "execution_count": null,
      "id": "6554c07b",
      "metadata": {
        "id": "6554c07b",
        "outputId": "58d6d0da-3e73-4108-f010-0975115bd70a"
      },
      "outputs": [
        {
          "name": "stdout",
          "output_type": "stream",
          "text": [
            "the sum is: None\n"
          ]
        }
      ],
      "source": [
        "def add():\n",
        "    a=10\n",
        "    b=20\n",
        "    c=a+b\n",
        "\n",
        "print(\"the sum is:\",add())#called the function inside the print"
      ]
    },
    {
      "cell_type": "code",
      "execution_count": null,
      "id": "24ff8e09",
      "metadata": {
        "id": "24ff8e09"
      },
      "outputs": [],
      "source": [
        "#creating a default parameter in function\n",
        "def cordinate(x,y=10):\n",
        "    print('cordinates are',x,',',y)"
      ]
    },
    {
      "cell_type": "code",
      "execution_count": null,
      "id": "c3b8073a",
      "metadata": {
        "id": "c3b8073a",
        "outputId": "46ecbaae-3c08-4b9d-b1e3-b947e1ca881f"
      },
      "outputs": [
        {
          "name": "stdout",
          "output_type": "stream",
          "text": [
            "cordinates are 7 , 10\n"
          ]
        }
      ],
      "source": [
        "cordinate(7)"
      ]
    },
    {
      "cell_type": "code",
      "execution_count": null,
      "id": "2899ff69",
      "metadata": {
        "id": "2899ff69"
      },
      "outputs": [],
      "source": [
        "#function to print the name of family members"
      ]
    },
    {
      "cell_type": "code",
      "execution_count": null,
      "id": "5767f9b2",
      "metadata": {
        "id": "5767f9b2"
      },
      "outputs": [],
      "source": [
        "def iseven(x):\n",
        "    if x%2==0:\n",
        "        return True\n",
        "    else:\n",
        "        return False"
      ]
    },
    {
      "cell_type": "code",
      "execution_count": null,
      "id": "0f1ffcb0",
      "metadata": {
        "id": "0f1ffcb0",
        "outputId": "7bedaee5-385f-47c5-d4b3-5b2d07cbd17e"
      },
      "outputs": [
        {
          "data": {
            "text/plain": [
              "False"
            ]
          },
          "execution_count": 162,
          "metadata": {},
          "output_type": "execute_result"
        }
      ],
      "source": [
        "iseven(67)"
      ]
    },
    {
      "cell_type": "code",
      "execution_count": null,
      "id": "11958557",
      "metadata": {
        "id": "11958557",
        "outputId": "b1dd3279-73e6-4bf0-f6c4-fdef90bcaa3f"
      },
      "outputs": [
        {
          "name": "stdout",
          "output_type": "stream",
          "text": [
            "the square of the value is 25\n"
          ]
        }
      ],
      "source": [
        "#object for function\n",
        "def square(x):\n",
        "    return x*x\n",
        "x2=square(5)\n",
        "print('the square of the value is',x2)"
      ]
    },
    {
      "cell_type": "code",
      "execution_count": null,
      "id": "37c4dba8",
      "metadata": {
        "id": "37c4dba8",
        "outputId": "48c9838c-19ae-4d2f-8eb0-ed665870e7a0"
      },
      "outputs": [
        {
          "name": "stdout",
          "output_type": "stream",
          "text": [
            "the square is 25\n"
          ]
        }
      ],
      "source": [
        "#passing the data structure in function\n",
        "def squareandcube(y):\n",
        "    return {'y2':y*y,'y3':y*y*y}\n",
        "dict1=squareandcube(5)\n",
        "print('the square is',dict1['y2'])"
      ]
    },
    {
      "cell_type": "code",
      "execution_count": null,
      "id": "b6ef1bbd",
      "metadata": {
        "id": "b6ef1bbd",
        "outputId": "8c2f0ef5-6a82-4002-f936-7b9d9234732d"
      },
      "outputs": [
        {
          "name": "stdout",
          "output_type": "stream",
          "text": [
            "64\n"
          ]
        }
      ],
      "source": [
        "#lambda function\n",
        "cube=lambda x:x*x*x\n",
        "print(cube(4))"
      ]
    },
    {
      "cell_type": "code",
      "execution_count": null,
      "id": "47ed5654",
      "metadata": {
        "id": "47ed5654"
      },
      "outputs": [],
      "source": [
        "process=lambda func1:print(func1(5))\n",
        "process(lambda x:x*x)\n",
        "process(lambda x:x*x*x)"
      ]
    },
    {
      "cell_type": "code",
      "execution_count": null,
      "id": "5068877a",
      "metadata": {
        "id": "5068877a",
        "outputId": "72dffaa8-79ed-41ed-f6d0-956c494a006d"
      },
      "outputs": [
        {
          "name": "stdout",
          "output_type": "stream",
          "text": [
            "[106.2, 110.4, 105.8, 109.7]\n"
          ]
        }
      ],
      "source": [
        "#map in lamda\n",
        "signals=[103.2,107.4,102.8,106.7]\n",
        "new_signals=list(map(lambda x:x+3,signals))\n",
        "print(new_signals)"
      ]
    },
    {
      "cell_type": "code",
      "execution_count": null,
      "id": "60651e6e",
      "metadata": {
        "id": "60651e6e",
        "outputId": "65bc4045-b9a2-42e8-8d5b-013c923d3f69"
      },
      "outputs": [
        {
          "name": "stdout",
          "output_type": "stream",
          "text": [
            "the sum of list elements is,10\n"
          ]
        }
      ],
      "source": [
        "#reduce in lambda\n",
        "#the reduce function give a single value of all elements of the iterable\n",
        "import functools\n",
        "l1=[1,2,3,4]\n",
        "print(\"the sum of list elements is,\",end='')\n",
        "print(functools.reduce(lambda a,b:a+b,l1))"
      ]
    },
    {
      "cell_type": "code",
      "execution_count": null,
      "id": "bebfe785",
      "metadata": {
        "id": "bebfe785"
      },
      "outputs": [],
      "source": [
        "#modules in python\n",
        "def greeting(name):\n",
        "    print(\"hello\",name)\n",
        "#to make this code as a module we have to sve this code as a file with proper extension\n",
        "#to create a module in python write your code in IDLE and save the file with .py extension in the same directory\n",
        "#then call this file(module) in jupyter using import method"
      ]
    },
    {
      "cell_type": "code",
      "execution_count": null,
      "id": "15bc6c9c",
      "metadata": {
        "id": "15bc6c9c",
        "outputId": "e639dbef-dd07-4848-805b-7eb3181ea1b4"
      },
      "outputs": [
        {
          "ename": "ModuleNotFoundError",
          "evalue": "No module named 'maxis'",
          "output_type": "error",
          "traceback": [
            "\u001b[0;31m---------------------------------------------------------------------------\u001b[0m",
            "\u001b[0;31mModuleNotFoundError\u001b[0m                       Traceback (most recent call last)",
            "\u001b[0;32m/var/folders/hw/qbxwv30d0pd327557k42wrxc0000gp/T/ipykernel_68681/1510858602.py\u001b[0m in \u001b[0;36m<module>\u001b[0;34m\u001b[0m\n\u001b[1;32m      1\u001b[0m \u001b[0;31m#calling the module\u001b[0m\u001b[0;34m\u001b[0m\u001b[0;34m\u001b[0m\u001b[0m\n\u001b[0;32m----> 2\u001b[0;31m \u001b[0;32mimport\u001b[0m \u001b[0mmaxis\u001b[0m\u001b[0;34m\u001b[0m\u001b[0;34m\u001b[0m\u001b[0m\n\u001b[0m\u001b[1;32m      3\u001b[0m \u001b[0mmaxis\u001b[0m\u001b[0;34m.\u001b[0m\u001b[0mgreeting\u001b[0m\u001b[0;34m(\u001b[0m\u001b[0;34m\"Ashish\"\u001b[0m\u001b[0;34m)\u001b[0m\u001b[0;34m\u001b[0m\u001b[0;34m\u001b[0m\u001b[0m\n",
            "\u001b[0;31mModuleNotFoundError\u001b[0m: No module named 'maxis'"
          ]
        }
      ],
      "source": [
        "#calling the module\n",
        "import maxis\n",
        "maxis.greeting(\"Ashish\")"
      ]
    },
    {
      "cell_type": "code",
      "execution_count": null,
      "id": "4740dab5",
      "metadata": {
        "id": "4740dab5",
        "outputId": "c5d5aa62-b0c6-4be5-9047-0cd4fd2044c3"
      },
      "outputs": [
        {
          "name": "stderr",
          "output_type": "stream",
          "text": [
            "/Users/admin/opt/anaconda3/lib/python3.9/site-packages/scipy/__init__.py:155: UserWarning: A NumPy version >=1.18.5 and <1.25.0 is required for this version of SciPy (detected version 1.26.4\n",
            "  warnings.warn(f\"A NumPy version >={np_minversion} and <{np_maxversion}\"\n"
          ]
        }
      ],
      "source": [
        "#importing a module in python\n",
        "from scipy.stats import stats"
      ]
    },
    {
      "cell_type": "code",
      "execution_count": null,
      "id": "39a0a346",
      "metadata": {
        "id": "39a0a346"
      },
      "outputs": [],
      "source": [
        "# read and write operation python\n",
        "#file access modes\n",
        "#read only('r')\n",
        "#read and write('r+')\n",
        "#write only('w')\n",
        "#write and read('w+')\n",
        "#append only('a')\n",
        "#append and read('a+')"
      ]
    },
    {
      "cell_type": "code",
      "execution_count": null,
      "id": "5afed303",
      "metadata": {
        "id": "5afed303"
      },
      "outputs": [],
      "source": [
        "#reading the file\n",
        "df1=open(\"file1.txt\",\"r\")"
      ]
    },
    {
      "cell_type": "code",
      "execution_count": null,
      "id": "cdcedf76",
      "metadata": {
        "id": "cdcedf76",
        "outputId": "7c07fda9-3494-4913-ee37-5d9397226890"
      },
      "outputs": [
        {
          "name": "stdout",
          "output_type": "stream",
          "text": [
            "\"hi, my name is ashish and we are working on different aspects of python\"\n"
          ]
        }
      ],
      "source": [
        "print(df1.read())"
      ]
    },
    {
      "cell_type": "code",
      "execution_count": null,
      "id": "063baee6",
      "metadata": {
        "id": "063baee6"
      },
      "outputs": [],
      "source": [
        "f=open(\"file1.txt\",\"a\")\n",
        "f.write(\"\\n also we are learning how to add a line to a file\")\n",
        "f.close()"
      ]
    },
    {
      "cell_type": "code",
      "execution_count": null,
      "id": "53e808e9",
      "metadata": {
        "id": "53e808e9",
        "outputId": "6174219f-398f-46a9-f276-22240f02f7a6"
      },
      "outputs": [
        {
          "name": "stdout",
          "output_type": "stream",
          "text": [
            "\"hi, my name is ashish and we are working on different aspects of python\"Today we are learning the file operations in python and working with different file modes\n",
            " also we are learning how to add a line to a file\n"
          ]
        }
      ],
      "source": [
        "f=open(\"file1.txt\",\"r\")\n",
        "print(f.read())"
      ]
    },
    {
      "cell_type": "code",
      "execution_count": null,
      "id": "05782b0a",
      "metadata": {
        "id": "05782b0a"
      },
      "outputs": [],
      "source": [
        "#deleting a file form directory\n",
        "import os\n",
        "#os.remove(\"file1.txt\")\n",
        "\n"
      ]
    },
    {
      "cell_type": "code",
      "execution_count": null,
      "id": "5d4f10ce",
      "metadata": {
        "id": "5d4f10ce"
      },
      "outputs": [],
      "source": [
        "#importing files from other directory\n",
        "#using copy of the file path\n",
        "file1=\"c:\\folder1\\folder2\\file.csv\""
      ]
    },
    {
      "cell_type": "code",
      "execution_count": null,
      "id": "f0ce214a",
      "metadata": {
        "id": "f0ce214a"
      },
      "outputs": [],
      "source": [
        "import pandas as pd"
      ]
    },
    {
      "cell_type": "code",
      "execution_count": null,
      "id": "7514c6d6",
      "metadata": {
        "id": "7514c6d6"
      },
      "outputs": [],
      "source": [
        "fil2=pd.read_csv(\"c:/folder1/folder2/file_name.csv\")"
      ]
    },
    {
      "cell_type": "code",
      "execution_count": null,
      "id": "3fe72340",
      "metadata": {
        "id": "3fe72340"
      },
      "outputs": [],
      "source": [
        "#error handling\n",
        "#try block\n",
        "#except block\n",
        "#finally"
      ]
    },
    {
      "cell_type": "code",
      "execution_count": null,
      "id": "84fb3aef",
      "metadata": {
        "id": "84fb3aef",
        "outputId": "51c86c1f-e96e-4218-e692-1913dde5bcc5"
      },
      "outputs": [
        {
          "name": "stdout",
          "output_type": "stream",
          "text": [
            "an exception occured\n"
          ]
        }
      ],
      "source": [
        "try:\n",
        "    print(h)\n",
        "except:\n",
        "    print(\"an exception occured\")"
      ]
    },
    {
      "cell_type": "code",
      "execution_count": null,
      "id": "51e11d6f",
      "metadata": {
        "id": "51e11d6f",
        "outputId": "e6d5b89e-df49-409d-cda5-3df669e0455b"
      },
      "outputs": [
        {
          "ename": "NameError",
          "evalue": "name 'Sqaure' is not defined",
          "output_type": "error",
          "traceback": [
            "\u001b[0;31m---------------------------------------------------------------------------\u001b[0m",
            "\u001b[0;31mNameError\u001b[0m                                 Traceback (most recent call last)",
            "\u001b[0;32m/var/folders/hw/qbxwv30d0pd327557k42wrxc0000gp/T/ipykernel_68681/3483684965.py\u001b[0m in \u001b[0;36m<module>\u001b[0;34m\u001b[0m\n\u001b[1;32m      3\u001b[0m \u001b[0;31m#adding a string to number(type error)\u001b[0m\u001b[0;34m\u001b[0m\u001b[0;34m\u001b[0m\u001b[0m\n\u001b[1;32m      4\u001b[0m \u001b[0;31m#nameerror\u001b[0m\u001b[0;34m\u001b[0m\u001b[0;34m\u001b[0m\u001b[0m\n\u001b[0;32m----> 5\u001b[0;31m \u001b[0mSqaure\u001b[0m\u001b[0;34m(\u001b[0m\u001b[0;36m5\u001b[0m\u001b[0;34m)\u001b[0m\u001b[0;34m\u001b[0m\u001b[0;34m\u001b[0m\u001b[0m\n\u001b[0m",
            "\u001b[0;31mNameError\u001b[0m: name 'Sqaure' is not defined"
          ]
        }
      ],
      "source": [
        "#syntax error\n",
        "#type error\n",
        "#adding a string to number(type error)\n",
        "#nameerror\n",
        "Sqaure(5)\n",
        "#indexError-> when a index is out of range for a list"
      ]
    }
  ],
  "metadata": {
    "kernelspec": {
      "display_name": "Python 3 (ipykernel)",
      "language": "python",
      "name": "python3"
    },
    "language_info": {
      "codemirror_mode": {
        "name": "ipython",
        "version": 3
      },
      "file_extension": ".py",
      "mimetype": "text/x-python",
      "name": "python",
      "nbconvert_exporter": "python",
      "pygments_lexer": "ipython3",
      "version": "3.9.13"
    },
    "colab": {
      "provenance": []
    }
  },
  "nbformat": 4,
  "nbformat_minor": 5
}