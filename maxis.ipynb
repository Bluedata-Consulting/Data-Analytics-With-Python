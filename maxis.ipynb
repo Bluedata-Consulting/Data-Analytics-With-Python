{
 "cells": [
  {
   "cell_type": "code",
   "execution_count": 2,
   "id": "1681531b",
   "metadata": {},
   "outputs": [
    {
     "name": "stdout",
     "output_type": "stream",
     "text": [
      "hello\n"
     ]
    }
   ],
   "source": [
    "print(\"hello\")"
   ]
  },
  {
   "cell_type": "code",
   "execution_count": 3,
   "id": "f8a2156b",
   "metadata": {},
   "outputs": [
    {
     "name": "stdout",
     "output_type": "stream",
     "text": [
      "welcome\n"
     ]
    }
   ],
   "source": [
    "#first line\n",
    "print(\"welcome\")"
   ]
  },
  {
   "cell_type": "markdown",
   "id": "72830225",
   "metadata": {},
   "source": [
    "#data types in python\n",
    "#int\n",
    "#float\n",
    "#string\n",
    "#boolean"
   ]
  },
  {
   "cell_type": "code",
   "execution_count": 4,
   "id": "e304871b",
   "metadata": {},
   "outputs": [],
   "source": [
    "#initializing an integer variables\n",
    "x=10"
   ]
  },
  {
   "cell_type": "code",
   "execution_count": 5,
   "id": "c19aa9b8",
   "metadata": {},
   "outputs": [
    {
     "data": {
      "text/plain": [
       "int"
      ]
     },
     "execution_count": 5,
     "metadata": {},
     "output_type": "execute_result"
    }
   ],
   "source": [
    "#checking the type of data or variable\n",
    "type(x)"
   ]
  },
  {
   "cell_type": "code",
   "execution_count": 6,
   "id": "e7e27f59",
   "metadata": {},
   "outputs": [],
   "source": [
    "x=20"
   ]
  },
  {
   "cell_type": "code",
   "execution_count": 7,
   "id": "6bfbdd87",
   "metadata": {},
   "outputs": [
    {
     "data": {
      "text/plain": [
       "20"
      ]
     },
     "execution_count": 7,
     "metadata": {},
     "output_type": "execute_result"
    }
   ],
   "source": [
    "x"
   ]
  },
  {
   "cell_type": "code",
   "execution_count": 8,
   "id": "6e25337d",
   "metadata": {},
   "outputs": [],
   "source": [
    "#float data type \n",
    "bandwidth=345.7"
   ]
  },
  {
   "cell_type": "code",
   "execution_count": 9,
   "id": "b4b5c51a",
   "metadata": {},
   "outputs": [
    {
     "data": {
      "text/plain": [
       "345.7"
      ]
     },
     "execution_count": 9,
     "metadata": {},
     "output_type": "execute_result"
    }
   ],
   "source": [
    "bandwidth"
   ]
  },
  {
   "cell_type": "code",
   "execution_count": 10,
   "id": "47e833c1",
   "metadata": {},
   "outputs": [
    {
     "data": {
      "text/plain": [
       "float"
      ]
     },
     "execution_count": 10,
     "metadata": {},
     "output_type": "execute_result"
    }
   ],
   "source": [
    "type(bandwidth)"
   ]
  },
  {
   "cell_type": "code",
   "execution_count": 11,
   "id": "836cfa6b",
   "metadata": {},
   "outputs": [],
   "source": [
    "#string Data type \n",
    "#collection of letters \n",
    "name=\"Tom Liam\""
   ]
  },
  {
   "cell_type": "code",
   "execution_count": 12,
   "id": "07926e6d",
   "metadata": {},
   "outputs": [
    {
     "data": {
      "text/plain": [
       "str"
      ]
     },
     "execution_count": 12,
     "metadata": {},
     "output_type": "execute_result"
    }
   ],
   "source": [
    "type(name)"
   ]
  },
  {
   "cell_type": "code",
   "execution_count": 13,
   "id": "6db08ff3",
   "metadata": {},
   "outputs": [],
   "source": [
    "#Boolean Data Type\n",
    "result=True"
   ]
  },
  {
   "cell_type": "code",
   "execution_count": 14,
   "id": "f497626e",
   "metadata": {},
   "outputs": [
    {
     "data": {
      "text/plain": [
       "bool"
      ]
     },
     "execution_count": 14,
     "metadata": {},
     "output_type": "execute_result"
    }
   ],
   "source": [
    "type(result)"
   ]
  },
  {
   "cell_type": "code",
   "execution_count": 15,
   "id": "8b69965d",
   "metadata": {},
   "outputs": [
    {
     "name": "stdout",
     "output_type": "stream",
     "text": [
      "Ashish\n"
     ]
    }
   ],
   "source": [
    "#this is my first line of comment\n",
    "print(\"Ashish\")#ashish si my first name  \n"
   ]
  },
  {
   "cell_type": "code",
   "execution_count": 16,
   "id": "aa52b0f7",
   "metadata": {},
   "outputs": [],
   "source": [
    "#basic operation in python \n",
    "#adding two interger values\n",
    "a=10\n",
    "b=20"
   ]
  },
  {
   "cell_type": "code",
   "execution_count": 17,
   "id": "278bcb8f",
   "metadata": {},
   "outputs": [
    {
     "data": {
      "text/plain": [
       "30"
      ]
     },
     "execution_count": 17,
     "metadata": {},
     "output_type": "execute_result"
    }
   ],
   "source": [
    "a+b"
   ]
  },
  {
   "cell_type": "code",
   "execution_count": 21,
   "id": "dd1e94b2",
   "metadata": {},
   "outputs": [],
   "source": [
    "#calculating the bandwidth\n",
    "amount_of_data=123124\n",
    "time=1.5\n",
    "bandwidth_1=(amount_of_data/time)"
   ]
  },
  {
   "cell_type": "code",
   "execution_count": 22,
   "id": "ee7dcb3a",
   "metadata": {},
   "outputs": [
    {
     "data": {
      "text/plain": [
       "82082.66666666667"
      ]
     },
     "execution_count": 22,
     "metadata": {},
     "output_type": "execute_result"
    }
   ],
   "source": [
    "bandwidth_1"
   ]
  },
  {
   "cell_type": "code",
   "execution_count": 23,
   "id": "83af811f",
   "metadata": {},
   "outputs": [],
   "source": [
    "salary='2345678'#string data type"
   ]
  },
  {
   "cell_type": "code",
   "execution_count": 25,
   "id": "6725f758",
   "metadata": {},
   "outputs": [
    {
     "data": {
      "text/plain": [
       "str"
      ]
     },
     "execution_count": 25,
     "metadata": {},
     "output_type": "execute_result"
    }
   ],
   "source": [
    "type(salary) "
   ]
  },
  {
   "cell_type": "code",
   "execution_count": 26,
   "id": "e1e6ebac",
   "metadata": {},
   "outputs": [],
   "source": [
    "update_salary=int(salary)#we have converted the string data type to int data type using the \n",
    "                         #concept of type casting "
   ]
  },
  {
   "cell_type": "code",
   "execution_count": 27,
   "id": "6ea65962",
   "metadata": {},
   "outputs": [
    {
     "data": {
      "text/plain": [
       "2345678"
      ]
     },
     "execution_count": 27,
     "metadata": {},
     "output_type": "execute_result"
    }
   ],
   "source": [
    "update_salary"
   ]
  },
  {
   "cell_type": "code",
   "execution_count": 28,
   "id": "748f858e",
   "metadata": {},
   "outputs": [
    {
     "data": {
      "text/plain": [
       "int"
      ]
     },
     "execution_count": 28,
     "metadata": {},
     "output_type": "execute_result"
    }
   ],
   "source": [
    "type(update_salary)"
   ]
  },
  {
   "cell_type": "code",
   "execution_count": null,
   "id": "9037a4f7",
   "metadata": {},
   "outputs": [],
   "source": [
    "#create a variable age in int format and create a new variable called updated_age which is string \n",
    "#type using type casting"
   ]
  },
  {
   "cell_type": "code",
   "execution_count": 29,
   "id": "28aca1c6",
   "metadata": {},
   "outputs": [
    {
     "ename": "ValueError",
     "evalue": "invalid literal for int() with base 10: 'Maxis'",
     "output_type": "error",
     "traceback": [
      "\u001b[0;31m---------------------------------------------------------------------------\u001b[0m",
      "\u001b[0;31mValueError\u001b[0m                                Traceback (most recent call last)",
      "\u001b[0;32m/var/folders/hw/qbxwv30d0pd327557k42wrxc0000gp/T/ipykernel_68681/178060292.py\u001b[0m in \u001b[0;36m<module>\u001b[0;34m\u001b[0m\n\u001b[1;32m      1\u001b[0m \u001b[0mcompany\u001b[0m\u001b[0;34m=\u001b[0m\u001b[0;34m'Maxis'\u001b[0m\u001b[0;34m\u001b[0m\u001b[0;34m\u001b[0m\u001b[0m\n\u001b[0;32m----> 2\u001b[0;31m \u001b[0mnew_company\u001b[0m\u001b[0;34m=\u001b[0m\u001b[0mint\u001b[0m\u001b[0;34m(\u001b[0m\u001b[0mcompany\u001b[0m\u001b[0;34m)\u001b[0m\u001b[0;34m\u001b[0m\u001b[0;34m\u001b[0m\u001b[0m\n\u001b[0m",
      "\u001b[0;31mValueError\u001b[0m: invalid literal for int() with base 10: 'Maxis'"
     ]
    }
   ],
   "source": [
    "company='Maxis'\n",
    "new_company=int(company)"
   ]
  },
  {
   "cell_type": "markdown",
   "id": "edd334e1",
   "metadata": {},
   "source": [
    "#data structure\n",
    "#way to store data in python \n",
    "#list\n",
    "#dictionary\n",
    "#tuple\n",
    "#set"
   ]
  },
  {
   "cell_type": "code",
   "execution_count": 30,
   "id": "202a7f3b",
   "metadata": {},
   "outputs": [],
   "source": [
    "#creating first list\n",
    "l1=[1,2,3,\"hello\",56.8,True,False]"
   ]
  },
  {
   "cell_type": "code",
   "execution_count": 31,
   "id": "011bf98d",
   "metadata": {},
   "outputs": [
    {
     "data": {
      "text/plain": [
       "list"
      ]
     },
     "execution_count": 31,
     "metadata": {},
     "output_type": "execute_result"
    }
   ],
   "source": [
    "type(l1)"
   ]
  },
  {
   "cell_type": "code",
   "execution_count": 50,
   "id": "8efa806b",
   "metadata": {},
   "outputs": [],
   "source": [
    "#using constructor create a list \n",
    "employee=list(('Tom','jerry','Andy','Bob'))"
   ]
  },
  {
   "cell_type": "code",
   "execution_count": 33,
   "id": "f7b12e28",
   "metadata": {},
   "outputs": [
    {
     "data": {
      "text/plain": [
       "list"
      ]
     },
     "execution_count": 33,
     "metadata": {},
     "output_type": "execute_result"
    }
   ],
   "source": [
    "type(employee)"
   ]
  },
  {
   "cell_type": "code",
   "execution_count": 34,
   "id": "52599386",
   "metadata": {},
   "outputs": [
    {
     "data": {
      "text/plain": [
       "'hello'"
      ]
     },
     "execution_count": 34,
     "metadata": {},
     "output_type": "execute_result"
    }
   ],
   "source": [
    "#indexing in python and access the element \n",
    "l1[3]#3 is the index position "
   ]
  },
  {
   "cell_type": "code",
   "execution_count": 35,
   "id": "5e2454bf",
   "metadata": {},
   "outputs": [
    {
     "data": {
      "text/plain": [
       "9"
      ]
     },
     "execution_count": 35,
     "metadata": {},
     "output_type": "execute_result"
    }
   ],
   "source": [
    "#counting the elements in the list \n",
    "salary=[34325,23534,5465642,6456,453456464,452345456,5,75434554,65]\n",
    "len(salary)"
   ]
  },
  {
   "cell_type": "code",
   "execution_count": 36,
   "id": "fd5ea6c7",
   "metadata": {},
   "outputs": [
    {
     "data": {
      "text/plain": [
       "[5465642, 6456, 453456464]"
      ]
     },
     "execution_count": 36,
     "metadata": {},
     "output_type": "execute_result"
    }
   ],
   "source": [
    "#range of index to fetch elements \n",
    "salary[2:5]#the range works for only end-1 index position"
   ]
  },
  {
   "cell_type": "code",
   "execution_count": 37,
   "id": "9b5322cf",
   "metadata": {},
   "outputs": [
    {
     "data": {
      "text/plain": [
       "['Tom', 'jerry', 'andy', 'bob']"
      ]
     },
     "execution_count": 37,
     "metadata": {},
     "output_type": "execute_result"
    }
   ],
   "source": [
    "employee"
   ]
  },
  {
   "cell_type": "code",
   "execution_count": 38,
   "id": "e1c89a0e",
   "metadata": {},
   "outputs": [],
   "source": [
    "#update an element in the list\n",
    "employee[1]='sam'"
   ]
  },
  {
   "cell_type": "code",
   "execution_count": 39,
   "id": "c8999423",
   "metadata": {},
   "outputs": [
    {
     "data": {
      "text/plain": [
       "['Tom', 'sam', 'andy', 'bob']"
      ]
     },
     "execution_count": 39,
     "metadata": {},
     "output_type": "execute_result"
    }
   ],
   "source": [
    "employee"
   ]
  },
  {
   "cell_type": "code",
   "execution_count": 40,
   "id": "025e249f",
   "metadata": {},
   "outputs": [],
   "source": [
    "#addding an element at the end of the list \n",
    "employee.append('Hello')"
   ]
  },
  {
   "cell_type": "code",
   "execution_count": 41,
   "id": "ad75bbef",
   "metadata": {},
   "outputs": [
    {
     "data": {
      "text/plain": [
       "['Tom', 'sam', 'andy', 'bob', 'Hello']"
      ]
     },
     "execution_count": 41,
     "metadata": {},
     "output_type": "execute_result"
    }
   ],
   "source": [
    "employee"
   ]
  },
  {
   "cell_type": "code",
   "execution_count": 42,
   "id": "77b599e0",
   "metadata": {},
   "outputs": [],
   "source": [
    "#adding a value at index position\n",
    "employee.insert(3,\"welcome\")"
   ]
  },
  {
   "cell_type": "code",
   "execution_count": 43,
   "id": "443d133a",
   "metadata": {},
   "outputs": [
    {
     "data": {
      "text/plain": [
       "['Tom', 'sam', 'andy', 'welcome', 'bob', 'Hello']"
      ]
     },
     "execution_count": 43,
     "metadata": {},
     "output_type": "execute_result"
    }
   ],
   "source": [
    "employee"
   ]
  },
  {
   "cell_type": "code",
   "execution_count": 44,
   "id": "cdd8b38c",
   "metadata": {},
   "outputs": [],
   "source": [
    "employee.remove('welcome')"
   ]
  },
  {
   "cell_type": "code",
   "execution_count": 45,
   "id": "71b74ef5",
   "metadata": {},
   "outputs": [
    {
     "data": {
      "text/plain": [
       "['Tom', 'sam', 'andy', 'bob', 'Hello']"
      ]
     },
     "execution_count": 45,
     "metadata": {},
     "output_type": "execute_result"
    }
   ],
   "source": [
    "employee"
   ]
  },
  {
   "cell_type": "code",
   "execution_count": 51,
   "id": "82d56c50",
   "metadata": {},
   "outputs": [],
   "source": [
    "#extending a list \n",
    "new_employee=['John','Mika','Rob','Emily']\n",
    "employee.extend(new_employee)"
   ]
  },
  {
   "cell_type": "code",
   "execution_count": 52,
   "id": "0c9a6081",
   "metadata": {},
   "outputs": [
    {
     "data": {
      "text/plain": [
       "['Tom', 'jerry', 'Andy', 'Bob', 'John', 'Mika', 'Rob', 'Emily']"
      ]
     },
     "execution_count": 52,
     "metadata": {},
     "output_type": "execute_result"
    }
   ],
   "source": [
    "employee"
   ]
  },
  {
   "cell_type": "code",
   "execution_count": 53,
   "id": "ea0c664b",
   "metadata": {},
   "outputs": [],
   "source": [
    "#sorting the list \n",
    "employee.sort()"
   ]
  },
  {
   "cell_type": "code",
   "execution_count": 54,
   "id": "d832846f",
   "metadata": {},
   "outputs": [
    {
     "data": {
      "text/plain": [
       "['Andy', 'Bob', 'Emily', 'John', 'Mika', 'Rob', 'Tom', 'jerry']"
      ]
     },
     "execution_count": 54,
     "metadata": {},
     "output_type": "execute_result"
    }
   ],
   "source": [
    "employee"
   ]
  },
  {
   "cell_type": "code",
   "execution_count": 56,
   "id": "59f22fe3",
   "metadata": {},
   "outputs": [],
   "source": [
    "l3=[1,2,3,4,5]\n",
    "l4=[9,8,6,6,5,4,3,3]"
   ]
  },
  {
   "cell_type": "code",
   "execution_count": 57,
   "id": "a7121d8e",
   "metadata": {},
   "outputs": [],
   "source": [
    "l5=l3+l4"
   ]
  },
  {
   "cell_type": "code",
   "execution_count": 58,
   "id": "584af091",
   "metadata": {},
   "outputs": [
    {
     "data": {
      "text/plain": [
       "[1, 2, 3, 4, 5, 9, 8, 6, 6, 5, 4, 3, 3]"
      ]
     },
     "execution_count": 58,
     "metadata": {},
     "output_type": "execute_result"
    }
   ],
   "source": [
    "l5"
   ]
  },
  {
   "cell_type": "code",
   "execution_count": null,
   "id": "0ced86a4",
   "metadata": {},
   "outputs": [],
   "source": [
    "###########################  Dictionary #############################"
   ]
  },
  {
   "cell_type": "code",
   "execution_count": 59,
   "id": "32da3712",
   "metadata": {},
   "outputs": [],
   "source": [
    "customers={'Tom':12,'Bob':13,'Andy':14,17:'Tom'}"
   ]
  },
  {
   "cell_type": "code",
   "execution_count": 60,
   "id": "2e12bbda",
   "metadata": {},
   "outputs": [
    {
     "data": {
      "text/plain": [
       "dict"
      ]
     },
     "execution_count": 60,
     "metadata": {},
     "output_type": "execute_result"
    }
   ],
   "source": [
    "type(customers)"
   ]
  },
  {
   "cell_type": "code",
   "execution_count": 61,
   "id": "626020df",
   "metadata": {},
   "outputs": [
    {
     "data": {
      "text/plain": [
       "13"
      ]
     },
     "execution_count": 61,
     "metadata": {},
     "output_type": "execute_result"
    }
   ],
   "source": [
    "#fecting a value from dictionary\n",
    "#we use key to fetch value from dictionary\n",
    "customers['Bob']"
   ]
  },
  {
   "cell_type": "code",
   "execution_count": 62,
   "id": "0a3fc781",
   "metadata": {},
   "outputs": [
    {
     "data": {
      "text/plain": [
       "14"
      ]
     },
     "execution_count": 62,
     "metadata": {},
     "output_type": "execute_result"
    }
   ],
   "source": [
    "customers.get(('Andy'))"
   ]
  },
  {
   "cell_type": "code",
   "execution_count": 64,
   "id": "99b30ad8",
   "metadata": {},
   "outputs": [],
   "source": [
    "#using constructor \n",
    "emp_salary=dict([('sam',2342),('vicky',3542),('john',46546)])"
   ]
  },
  {
   "cell_type": "code",
   "execution_count": 65,
   "id": "67066599",
   "metadata": {},
   "outputs": [
    {
     "data": {
      "text/plain": [
       "dict"
      ]
     },
     "execution_count": 65,
     "metadata": {},
     "output_type": "execute_result"
    }
   ],
   "source": [
    "type(emp_salary)"
   ]
  },
  {
   "cell_type": "code",
   "execution_count": 66,
   "id": "f8be9382",
   "metadata": {},
   "outputs": [],
   "source": [
    "#deleting a value from dictionary\n",
    "del emp_salary['sam']"
   ]
  },
  {
   "cell_type": "code",
   "execution_count": 67,
   "id": "ac870f2c",
   "metadata": {},
   "outputs": [
    {
     "data": {
      "text/plain": [
       "{'vicky': 3542, 'john': 46546}"
      ]
     },
     "execution_count": 67,
     "metadata": {},
     "output_type": "execute_result"
    }
   ],
   "source": [
    "emp_salary"
   ]
  },
  {
   "cell_type": "code",
   "execution_count": 68,
   "id": "46b2867f",
   "metadata": {},
   "outputs": [
    {
     "data": {
      "text/plain": [
       "{'Tom': 12, 'Bob': 13, 'Andy': 14, 17: 'Tom'}"
      ]
     },
     "execution_count": 68,
     "metadata": {},
     "output_type": "execute_result"
    }
   ],
   "source": [
    "customers"
   ]
  },
  {
   "cell_type": "code",
   "execution_count": 69,
   "id": "78712047",
   "metadata": {},
   "outputs": [],
   "source": [
    "#poping a key from dictionary\n",
    "old_customers=customers.pop('Andy')"
   ]
  },
  {
   "cell_type": "code",
   "execution_count": 70,
   "id": "f7cf0d57",
   "metadata": {},
   "outputs": [
    {
     "data": {
      "text/plain": [
       "{'Tom': 12, 'Bob': 13, 17: 'Tom'}"
      ]
     },
     "execution_count": 70,
     "metadata": {},
     "output_type": "execute_result"
    }
   ],
   "source": [
    "customers"
   ]
  },
  {
   "cell_type": "code",
   "execution_count": 71,
   "id": "a3e03ac1",
   "metadata": {},
   "outputs": [
    {
     "data": {
      "text/plain": [
       "14"
      ]
     },
     "execution_count": 71,
     "metadata": {},
     "output_type": "execute_result"
    }
   ],
   "source": [
    "old_customers"
   ]
  },
  {
   "cell_type": "code",
   "execution_count": 72,
   "id": "ae9e80b6",
   "metadata": {},
   "outputs": [
    {
     "name": "stdout",
     "output_type": "stream",
     "text": [
      "['Tom', 'Bob', 17]\n"
     ]
    }
   ],
   "source": [
    "keys=list(customers.keys())\n",
    "print(keys)"
   ]
  },
  {
   "cell_type": "code",
   "execution_count": 73,
   "id": "985b0231",
   "metadata": {},
   "outputs": [
    {
     "name": "stdout",
     "output_type": "stream",
     "text": [
      "[12, 13, 'Tom']\n"
     ]
    }
   ],
   "source": [
    "values=list(customers.values())\n",
    "print(values)"
   ]
  },
  {
   "cell_type": "code",
   "execution_count": 74,
   "id": "bcc49dd6",
   "metadata": {},
   "outputs": [],
   "source": [
    "new_customer={'hulk':5}"
   ]
  },
  {
   "cell_type": "code",
   "execution_count": 75,
   "id": "69becc30",
   "metadata": {},
   "outputs": [],
   "source": [
    "#updating a dicitonary\n",
    "customers.update(new_customer)"
   ]
  },
  {
   "cell_type": "code",
   "execution_count": 76,
   "id": "32a9518a",
   "metadata": {},
   "outputs": [
    {
     "data": {
      "text/plain": [
       "{'Tom': 12, 'Bob': 13, 17: 'Tom', 'hulk': 5}"
      ]
     },
     "execution_count": 76,
     "metadata": {},
     "output_type": "execute_result"
    }
   ],
   "source": [
    "customers"
   ]
  },
  {
   "cell_type": "code",
   "execution_count": null,
   "id": "da32a585",
   "metadata": {},
   "outputs": [],
   "source": [
    "############################# Tuple ##########################"
   ]
  },
  {
   "cell_type": "code",
   "execution_count": 77,
   "id": "8f1e0743",
   "metadata": {},
   "outputs": [],
   "source": [
    "t1=(1,2,3,'Hello',True,False,67.8)"
   ]
  },
  {
   "cell_type": "code",
   "execution_count": 78,
   "id": "16dcb173",
   "metadata": {},
   "outputs": [
    {
     "data": {
      "text/plain": [
       "tuple"
      ]
     },
     "execution_count": 78,
     "metadata": {},
     "output_type": "execute_result"
    }
   ],
   "source": [
    "type(t1)"
   ]
  },
  {
   "cell_type": "code",
   "execution_count": 79,
   "id": "25c2682e",
   "metadata": {},
   "outputs": [
    {
     "data": {
      "text/plain": [
       "7"
      ]
     },
     "execution_count": 79,
     "metadata": {},
     "output_type": "execute_result"
    }
   ],
   "source": [
    "len(t1)"
   ]
  },
  {
   "cell_type": "code",
   "execution_count": 80,
   "id": "f5c9b3b3",
   "metadata": {},
   "outputs": [],
   "source": [
    "#creating single element tuple \n",
    "t2=('Welcome',)"
   ]
  },
  {
   "cell_type": "code",
   "execution_count": 81,
   "id": "58f5be48",
   "metadata": {},
   "outputs": [
    {
     "data": {
      "text/plain": [
       "tuple"
      ]
     },
     "execution_count": 81,
     "metadata": {},
     "output_type": "execute_result"
    }
   ],
   "source": [
    "type(t2)"
   ]
  },
  {
   "cell_type": "code",
   "execution_count": 82,
   "id": "585c1be4",
   "metadata": {},
   "outputs": [
    {
     "data": {
      "text/plain": [
       "'Hello'"
      ]
     },
     "execution_count": 82,
     "metadata": {},
     "output_type": "execute_result"
    }
   ],
   "source": [
    "t1[3]"
   ]
  },
  {
   "cell_type": "code",
   "execution_count": 83,
   "id": "e631e92a",
   "metadata": {},
   "outputs": [
    {
     "ename": "TypeError",
     "evalue": "'tuple' object does not support item assignment",
     "output_type": "error",
     "traceback": [
      "\u001b[0;31m---------------------------------------------------------------------------\u001b[0m",
      "\u001b[0;31mTypeError\u001b[0m                                 Traceback (most recent call last)",
      "\u001b[0;32m/var/folders/hw/qbxwv30d0pd327557k42wrxc0000gp/T/ipykernel_68681/1853503811.py\u001b[0m in \u001b[0;36m<module>\u001b[0;34m\u001b[0m\n\u001b[0;32m----> 1\u001b[0;31m \u001b[0mt1\u001b[0m\u001b[0;34m[\u001b[0m\u001b[0;36m3\u001b[0m\u001b[0;34m]\u001b[0m\u001b[0;34m=\u001b[0m\u001b[0;34m'maxis'\u001b[0m\u001b[0;34m\u001b[0m\u001b[0;34m\u001b[0m\u001b[0m\n\u001b[0m",
      "\u001b[0;31mTypeError\u001b[0m: 'tuple' object does not support item assignment"
     ]
    }
   ],
   "source": [
    "t1[3]='maxis'"
   ]
  },
  {
   "cell_type": "code",
   "execution_count": 84,
   "id": "1780c60e",
   "metadata": {},
   "outputs": [
    {
     "name": "stdout",
     "output_type": "stream",
     "text": [
      "('north', 'south', 'east', 'west', 'central')\n"
     ]
    }
   ],
   "source": [
    "#manipulating a tuple\n",
    "sites=('north','south','east','west')\n",
    "x=list(sites)\n",
    "x.append('central')\n",
    "sites=tuple(x)\n",
    "print(sites)"
   ]
  },
  {
   "cell_type": "code",
   "execution_count": 85,
   "id": "58017765",
   "metadata": {},
   "outputs": [],
   "source": [
    "#concatenate tuple \n",
    "tup1=tuple((1,2,3,4,5,6))\n",
    "tup2=(9,8,7,6,5,4,3)"
   ]
  },
  {
   "cell_type": "code",
   "execution_count": 86,
   "id": "5d1da0e8",
   "metadata": {},
   "outputs": [],
   "source": [
    "tup3=tup1+tup2"
   ]
  },
  {
   "cell_type": "code",
   "execution_count": 87,
   "id": "1fa327fe",
   "metadata": {},
   "outputs": [
    {
     "data": {
      "text/plain": [
       "(1, 2, 3, 4, 5, 6, 9, 8, 7, 6, 5, 4, 3)"
      ]
     },
     "execution_count": 87,
     "metadata": {},
     "output_type": "execute_result"
    }
   ],
   "source": [
    "tup3"
   ]
  },
  {
   "cell_type": "code",
   "execution_count": 88,
   "id": "72d49f32",
   "metadata": {},
   "outputs": [
    {
     "data": {
      "text/plain": [
       "tuple"
      ]
     },
     "execution_count": 88,
     "metadata": {},
     "output_type": "execute_result"
    }
   ],
   "source": [
    "type(tup3)"
   ]
  },
  {
   "cell_type": "code",
   "execution_count": 89,
   "id": "ccff2baf",
   "metadata": {},
   "outputs": [
    {
     "data": {
      "text/plain": [
       "('north', 'south', 'east', 'west', 'central')"
      ]
     },
     "execution_count": 89,
     "metadata": {},
     "output_type": "execute_result"
    }
   ],
   "source": [
    "#unpacking a tuple\n",
    "sites"
   ]
  },
  {
   "cell_type": "code",
   "execution_count": 95,
   "id": "1d85d677",
   "metadata": {},
   "outputs": [],
   "source": [
    "good,*bad,excellent=sites"
   ]
  },
  {
   "cell_type": "code",
   "execution_count": 96,
   "id": "ac835830",
   "metadata": {},
   "outputs": [
    {
     "data": {
      "text/plain": [
       "'north'"
      ]
     },
     "execution_count": 96,
     "metadata": {},
     "output_type": "execute_result"
    }
   ],
   "source": [
    "good"
   ]
  },
  {
   "cell_type": "code",
   "execution_count": 97,
   "id": "c9692a59",
   "metadata": {},
   "outputs": [
    {
     "data": {
      "text/plain": [
       "['south', 'east', 'west']"
      ]
     },
     "execution_count": 97,
     "metadata": {},
     "output_type": "execute_result"
    }
   ],
   "source": [
    "bad"
   ]
  },
  {
   "cell_type": "code",
   "execution_count": 94,
   "id": "1934f7fd",
   "metadata": {},
   "outputs": [
    {
     "data": {
      "text/plain": [
       "['east', 'west', 'central']"
      ]
     },
     "execution_count": 94,
     "metadata": {},
     "output_type": "execute_result"
    }
   ],
   "source": [
    "excellent"
   ]
  },
  {
   "cell_type": "code",
   "execution_count": 98,
   "id": "5423a351",
   "metadata": {},
   "outputs": [
    {
     "data": {
      "text/plain": [
       "['central', 'east', 'north', 'south', 'west']"
      ]
     },
     "execution_count": 98,
     "metadata": {},
     "output_type": "execute_result"
    }
   ],
   "source": [
    "sorted(sites)"
   ]
  },
  {
   "cell_type": "code",
   "execution_count": null,
   "id": "11a93c99",
   "metadata": {},
   "outputs": [],
   "source": [
    "############################## Set ##########################"
   ]
  },
  {
   "cell_type": "code",
   "execution_count": 99,
   "id": "4868a08a",
   "metadata": {},
   "outputs": [],
   "source": [
    "s1={1,2,3,True,'hello',9,3,6,2}"
   ]
  },
  {
   "cell_type": "code",
   "execution_count": 100,
   "id": "f987569a",
   "metadata": {},
   "outputs": [
    {
     "data": {
      "text/plain": [
       "{1, 2, 3, 6, 9, 'hello'}"
      ]
     },
     "execution_count": 100,
     "metadata": {},
     "output_type": "execute_result"
    }
   ],
   "source": [
    "s1"
   ]
  },
  {
   "cell_type": "code",
   "execution_count": 101,
   "id": "9f933f3e",
   "metadata": {},
   "outputs": [
    {
     "data": {
      "text/plain": [
       "6"
      ]
     },
     "execution_count": 101,
     "metadata": {},
     "output_type": "execute_result"
    }
   ],
   "source": [
    "len(s1)"
   ]
  },
  {
   "cell_type": "code",
   "execution_count": 103,
   "id": "391b5ce8",
   "metadata": {},
   "outputs": [],
   "source": [
    "#using constructor\n",
    "s2=set((9,7,5,2,4,5,2,2))"
   ]
  },
  {
   "cell_type": "code",
   "execution_count": 104,
   "id": "d40d62bd",
   "metadata": {},
   "outputs": [
    {
     "data": {
      "text/plain": [
       "set"
      ]
     },
     "execution_count": 104,
     "metadata": {},
     "output_type": "execute_result"
    }
   ],
   "source": [
    "type(s2)"
   ]
  },
  {
   "cell_type": "code",
   "execution_count": 105,
   "id": "1bdc2341",
   "metadata": {},
   "outputs": [],
   "source": [
    "#adding a value in set\n",
    "s2.add('Hello')"
   ]
  },
  {
   "cell_type": "code",
   "execution_count": 106,
   "id": "286716a5",
   "metadata": {},
   "outputs": [
    {
     "data": {
      "text/plain": [
       "{2, 4, 5, 7, 9, 'Hello'}"
      ]
     },
     "execution_count": 106,
     "metadata": {},
     "output_type": "execute_result"
    }
   ],
   "source": [
    "s2"
   ]
  },
  {
   "cell_type": "code",
   "execution_count": 107,
   "id": "3584980b",
   "metadata": {},
   "outputs": [],
   "source": [
    "s2.remove('Hello')"
   ]
  },
  {
   "cell_type": "code",
   "execution_count": 108,
   "id": "f215e132",
   "metadata": {},
   "outputs": [
    {
     "data": {
      "text/plain": [
       "{2, 4, 5, 7, 9}"
      ]
     },
     "execution_count": 108,
     "metadata": {},
     "output_type": "execute_result"
    }
   ],
   "source": [
    "s2"
   ]
  },
  {
   "cell_type": "code",
   "execution_count": 109,
   "id": "02721b53",
   "metadata": {},
   "outputs": [
    {
     "ename": "KeyError",
     "evalue": "'Hello'",
     "output_type": "error",
     "traceback": [
      "\u001b[0;31m---------------------------------------------------------------------------\u001b[0m",
      "\u001b[0;31mKeyError\u001b[0m                                  Traceback (most recent call last)",
      "\u001b[0;32m/var/folders/hw/qbxwv30d0pd327557k42wrxc0000gp/T/ipykernel_68681/3025842224.py\u001b[0m in \u001b[0;36m<module>\u001b[0;34m\u001b[0m\n\u001b[0;32m----> 1\u001b[0;31m \u001b[0ms2\u001b[0m\u001b[0;34m.\u001b[0m\u001b[0mremove\u001b[0m\u001b[0;34m(\u001b[0m\u001b[0;34m'Hello'\u001b[0m\u001b[0;34m)\u001b[0m\u001b[0;34m\u001b[0m\u001b[0;34m\u001b[0m\u001b[0m\n\u001b[0m",
      "\u001b[0;31mKeyError\u001b[0m: 'Hello'"
     ]
    }
   ],
   "source": [
    "s2.remove('Hello')"
   ]
  },
  {
   "cell_type": "code",
   "execution_count": 110,
   "id": "a9ae612b",
   "metadata": {},
   "outputs": [],
   "source": [
    "#updating two sets\n",
    "s1.update(s2)"
   ]
  },
  {
   "cell_type": "code",
   "execution_count": 111,
   "id": "767e0188",
   "metadata": {},
   "outputs": [
    {
     "data": {
      "text/plain": [
       "{1, 2, 3, 4, 5, 6, 7, 9, 'hello'}"
      ]
     },
     "execution_count": 111,
     "metadata": {},
     "output_type": "execute_result"
    }
   ],
   "source": [
    "s1"
   ]
  },
  {
   "cell_type": "code",
   "execution_count": 112,
   "id": "ed742d11",
   "metadata": {},
   "outputs": [],
   "source": [
    "s3={2,5,7,8,4,6,7,9,6,2,3}\n",
    "s4={8,4,2,5,4,2,6,8}"
   ]
  },
  {
   "cell_type": "code",
   "execution_count": 113,
   "id": "c8dd8930",
   "metadata": {},
   "outputs": [],
   "source": [
    "set1=s3.union(s4)"
   ]
  },
  {
   "cell_type": "code",
   "execution_count": 114,
   "id": "3a986aba",
   "metadata": {},
   "outputs": [
    {
     "data": {
      "text/plain": [
       "{2, 3, 4, 5, 6, 7, 8, 9}"
      ]
     },
     "execution_count": 114,
     "metadata": {},
     "output_type": "execute_result"
    }
   ],
   "source": [
    "set1"
   ]
  },
  {
   "cell_type": "code",
   "execution_count": 115,
   "id": "91313385",
   "metadata": {},
   "outputs": [
    {
     "data": {
      "text/plain": [
       "{2, 4, 5, 6, 8}"
      ]
     },
     "execution_count": 115,
     "metadata": {},
     "output_type": "execute_result"
    }
   ],
   "source": [
    "s3.intersection(s4)"
   ]
  },
  {
   "cell_type": "code",
   "execution_count": 116,
   "id": "a9034127",
   "metadata": {},
   "outputs": [
    {
     "name": "stdout",
     "output_type": "stream",
     "text": [
      "{'Banana', 'cherry'}\n"
     ]
    }
   ],
   "source": [
    "#difference between set\n",
    "x={'apple','Banana','cherry'}#we will get only those elements from the fisrt set which are proesent, but not \n",
    "y={'google','microsoft','apple'}#which are in y set\n",
    "z=x.difference(y)\n",
    "print(z)"
   ]
  },
  {
   "cell_type": "code",
   "execution_count": 122,
   "id": "6c0a5903",
   "metadata": {},
   "outputs": [],
   "source": [
    "city={'a','b','c'}\n",
    "town={'d','a','e','t','f'}"
   ]
  },
  {
   "cell_type": "code",
   "execution_count": 119,
   "id": "6ca9d828",
   "metadata": {},
   "outputs": [],
   "source": [
    "q=city.issubset(town)"
   ]
  },
  {
   "cell_type": "code",
   "execution_count": 120,
   "id": "f5c48268",
   "metadata": {},
   "outputs": [
    {
     "data": {
      "text/plain": [
       "False"
      ]
     },
     "execution_count": 120,
     "metadata": {},
     "output_type": "execute_result"
    }
   ],
   "source": [
    "q"
   ]
  },
  {
   "cell_type": "code",
   "execution_count": 123,
   "id": "83ed8d7d",
   "metadata": {},
   "outputs": [
    {
     "data": {
      "text/plain": [
       "'t'"
      ]
     },
     "execution_count": 123,
     "metadata": {},
     "output_type": "execute_result"
    }
   ],
   "source": [
    "w=town.pop()"
   ]
  },
  {
   "cell_type": "code",
   "execution_count": null,
   "id": "c8d50eec",
   "metadata": {},
   "outputs": [],
   "source": [
    "######################## Conditional Statement #####################"
   ]
  },
  {
   "cell_type": "code",
   "execution_count": 124,
   "id": "d03f91f2",
   "metadata": {},
   "outputs": [],
   "source": [
    "# if Statement\n",
    "x=10\n",
    "if x<10:\n",
    "    print(\"the value is less than 10\")#print is said to be body of if statement coz it is inside the if "
   ]
  },
  {
   "cell_type": "code",
   "execution_count": 125,
   "id": "40106110",
   "metadata": {},
   "outputs": [],
   "source": [
    "#importing a library to work on random data\n",
    "import random"
   ]
  },
  {
   "cell_type": "code",
   "execution_count": 132,
   "id": "cff7aa49",
   "metadata": {},
   "outputs": [],
   "source": [
    "y=random.randint(1,20)"
   ]
  },
  {
   "cell_type": "code",
   "execution_count": 131,
   "id": "94c2a5f5",
   "metadata": {},
   "outputs": [
    {
     "data": {
      "text/plain": [
       "16"
      ]
     },
     "execution_count": 131,
     "metadata": {},
     "output_type": "execute_result"
    }
   ],
   "source": [
    "y"
   ]
  },
  {
   "cell_type": "code",
   "execution_count": 130,
   "id": "7e32dfb8",
   "metadata": {},
   "outputs": [],
   "source": [
    "if y<10:\n",
    "    print(\"welcome to the session on python\")"
   ]
  },
  {
   "cell_type": "code",
   "execution_count": null,
   "id": "5f5647f8",
   "metadata": {},
   "outputs": [],
   "source": [
    "#else-if statement \n",
    "if y>10:\n",
    "    print(\"the value is greater than 10\")\n",
    "else:\n",
    "    print(\"value is smaller\")"
   ]
  },
  {
   "cell_type": "code",
   "execution_count": 134,
   "id": "becdccd8",
   "metadata": {},
   "outputs": [
    {
     "name": "stdout",
     "output_type": "stream",
     "text": [
      "enter the value of bandwidth11.2\n",
      "the bandwidth is good\n"
     ]
    }
   ],
   "source": [
    "#taking input from user\n",
    "bandwidth=float(input(\"enter the value of bandwidth\"))#user input\n",
    "if bandwidth>10:\n",
    "    print(\"the bandwidth is good\")\n",
    "else:\n",
    "    print(\"the bandwidth is bad\")"
   ]
  },
  {
   "cell_type": "code",
   "execution_count": 135,
   "id": "8878b7d5",
   "metadata": {},
   "outputs": [
    {
     "name": "stdout",
     "output_type": "stream",
     "text": [
      "enter the value of bandwidth9.7\n",
      "increase the value of bandwidth\n"
     ]
    }
   ],
   "source": [
    "bandwidth=float(input(\"enter the value of bandwidth\"))#user input\n",
    "if bandwidth>10:\n",
    "    print(\"the bandwidth is good\")\n",
    "elif bandwidth<10:\n",
    "    print(\"increase the value of bandwidth\")"
   ]
  },
  {
   "cell_type": "code",
   "execution_count": null,
   "id": "4ec000c7",
   "metadata": {},
   "outputs": [],
   "source": [
    "#nested conditional statement \n",
    "bandwidth=float(input(\"enter the value of bandwidth\"))#user input\n",
    "if bandwidth>10:\n",
    "    print(\"the bandwidth is good\")\n",
    "elif bandwidth==10:#comparing the value \n",
    "    print(\"signal is perfect\")\n",
    "else:\n",
    "    print(\"increase the value of bandwidth\")"
   ]
  },
  {
   "cell_type": "code",
   "execution_count": null,
   "id": "f4ad8f73",
   "metadata": {},
   "outputs": [],
   "source": [
    "######################### Loops in python #########################"
   ]
  },
  {
   "cell_type": "code",
   "execution_count": 137,
   "id": "19c0e760",
   "metadata": {},
   "outputs": [
    {
     "name": "stdout",
     "output_type": "stream",
     "text": [
      "east\n",
      "west\n",
      "north\n",
      "south\n",
      "central\n"
     ]
    }
   ],
   "source": [
    "#for loop \n",
    "site_location=['east','west','north','south','central']\n",
    "for name in site_location:\n",
    "    print(name)"
   ]
  },
  {
   "cell_type": "code",
   "execution_count": 139,
   "id": "26b2b3f8",
   "metadata": {},
   "outputs": [
    {
     "name": "stdout",
     "output_type": "stream",
     "text": [
      "enter the num5\n",
      "5 x 1 = 5\n",
      "5 x 2 = 10\n",
      "5 x 3 = 15\n",
      "5 x 4 = 20\n",
      "5 x 5 = 25\n",
      "5 x 6 = 30\n",
      "5 x 7 = 35\n",
      "5 x 8 = 40\n",
      "5 x 9 = 45\n",
      "5 x 10 = 50\n"
     ]
    }
   ],
   "source": [
    "num=int(input(\"enter the num\"))\n",
    "for i in range(1,11):\n",
    "    print(num,'x',i,'=',num*i)"
   ]
  },
  {
   "cell_type": "code",
   "execution_count": 144,
   "id": "bdd45289",
   "metadata": {},
   "outputs": [
    {
     "name": "stdout",
     "output_type": "stream",
     "text": [
      "the salary is low\n",
      "the salary is low\n",
      "the salary is low\n",
      "the salary is low\n",
      "the salary is low\n"
     ]
    }
   ],
   "source": [
    "salary=[231,4245,45,63,452,535,4,62,4,34,52,2345,4542]\n",
    "for i in salary:\n",
    "    if i==535:\n",
    "        break #break is used to terminate the loop\n",
    "    print(\"the salary is low\")\n",
    "        "
   ]
  },
  {
   "cell_type": "code",
   "execution_count": null,
   "id": "f1ee6686",
   "metadata": {},
   "outputs": [],
   "source": [
    "Ques- calculate the  sum of first 10 natural numbers using for loop "
   ]
  },
  {
   "cell_type": "code",
   "execution_count": 146,
   "id": "8cd8ed66",
   "metadata": {},
   "outputs": [
    {
     "name": "stdout",
     "output_type": "stream",
     "text": [
      "ping to the site 0\n",
      "ping to the site 1\n",
      "ping to the site 2\n",
      "ping to the site 3\n",
      "ping to the site 4\n",
      "ping to the site 5\n",
      "ping to the site 6\n",
      "ping to the site 7\n",
      "ping to the site 8\n",
      "ping to the site 9\n"
     ]
    }
   ],
   "source": [
    "######################## while loop ##########################\n",
    "bandwidth=0 #bandwidth is a counter which counts the no of execution of while loop\n",
    "while bandwidth<10:\n",
    "    print(\"ping to the site\",bandwidth)\n",
    "    bandwidth+=1"
   ]
  },
  {
   "cell_type": "code",
   "execution_count": 147,
   "id": "24a1790b",
   "metadata": {},
   "outputs": [
    {
     "name": "stdout",
     "output_type": "stream",
     "text": [
      "the first number is 0\n"
     ]
    }
   ],
   "source": [
    "#checking all the no which are divisible by a certain no in a range\n",
    "i=0\n",
    "while(i<=50 and i %7!=0):\n",
    "    i+=1\n",
    "else:\n",
    "    if (i%7==0):\n",
    "        print(\"the first number is\",i)\n",
    "    else:\n",
    "        print(\"no number is divisible by 7\")"
   ]
  },
  {
   "cell_type": "code",
   "execution_count": null,
   "id": "7a6d3498",
   "metadata": {},
   "outputs": [],
   "source": [
    "#calculate the sum of first 10 natural numbers using while loop "
   ]
  },
  {
   "cell_type": "code",
   "execution_count": 148,
   "id": "5bf78a0b",
   "metadata": {},
   "outputs": [
    {
     "name": "stdout",
     "output_type": "stream",
     "text": [
      "0\n",
      "1\n",
      "2\n",
      "3\n",
      "4\n",
      "6\n",
      "7\n",
      "8\n"
     ]
    }
   ],
   "source": [
    "#continue statement\n",
    "for i in range(9):\n",
    "    if i==5:\n",
    "        continue #we are skipping the value of i here\n",
    "    print(i)"
   ]
  },
  {
   "cell_type": "code",
   "execution_count": 149,
   "id": "3059a982",
   "metadata": {},
   "outputs": [
    {
     "name": "stdout",
     "output_type": "stream",
     "text": [
      "1\n",
      "2\n",
      "3\n",
      "5\n",
      "6\n",
      "7\n",
      "8\n",
      "9\n",
      "10\n"
     ]
    }
   ],
   "source": [
    "#continue with while loop \n",
    "i=0\n",
    "while i<10:\n",
    "    i+=1\n",
    "    if i==4:\n",
    "        continue# skip the value of if condition\n",
    "    print(i)"
   ]
  },
  {
   "cell_type": "code",
   "execution_count": null,
   "id": "40d8b0cd",
   "metadata": {},
   "outputs": [],
   "source": [
    "########################### Functions in Python ############################"
   ]
  },
  {
   "cell_type": "code",
   "execution_count": 150,
   "id": "eb4f2f70",
   "metadata": {},
   "outputs": [],
   "source": [
    "#function for greet\n",
    "def greet():\n",
    "    print(\"hello\")"
   ]
  },
  {
   "cell_type": "code",
   "execution_count": 151,
   "id": "3f9fdc40",
   "metadata": {},
   "outputs": [
    {
     "name": "stdout",
     "output_type": "stream",
     "text": [
      "hello\n"
     ]
    }
   ],
   "source": [
    "#calling the function\n",
    "greet()"
   ]
  },
  {
   "cell_type": "code",
   "execution_count": 152,
   "id": "9bfe6a10",
   "metadata": {},
   "outputs": [],
   "source": [
    "#function with parameter\n",
    "def greet(name):\n",
    "    print(\"hello\",name)"
   ]
  },
  {
   "cell_type": "code",
   "execution_count": 154,
   "id": "17164c20",
   "metadata": {},
   "outputs": [
    {
     "name": "stdout",
     "output_type": "stream",
     "text": [
      "hello 5765\n"
     ]
    }
   ],
   "source": [
    "#call the fucntion with parameter value\n",
    "greet(5765)"
   ]
  },
  {
   "cell_type": "code",
   "execution_count": 155,
   "id": "2e7e8f97",
   "metadata": {},
   "outputs": [
    {
     "name": "stdout",
     "output_type": "stream",
     "text": [
      "the sum is: 30\n"
     ]
    }
   ],
   "source": [
    "def add():\n",
    "    a=10\n",
    "    b=20\n",
    "    c=a+b\n",
    "    return c\n",
    "print(\"the sum is:\",add())#called the function inside the print"
   ]
  },
  {
   "cell_type": "code",
   "execution_count": 156,
   "id": "6554c07b",
   "metadata": {},
   "outputs": [
    {
     "name": "stdout",
     "output_type": "stream",
     "text": [
      "the sum is: None\n"
     ]
    }
   ],
   "source": [
    "def add():\n",
    "    a=10\n",
    "    b=20\n",
    "    c=a+b\n",
    "    \n",
    "print(\"the sum is:\",add())#called the function inside the print"
   ]
  },
  {
   "cell_type": "code",
   "execution_count": 157,
   "id": "24ff8e09",
   "metadata": {},
   "outputs": [],
   "source": [
    "#creating a default parameter in function\n",
    "def cordinate(x,y=10):\n",
    "    print('cordinates are',x,',',y)"
   ]
  },
  {
   "cell_type": "code",
   "execution_count": 158,
   "id": "c3b8073a",
   "metadata": {},
   "outputs": [
    {
     "name": "stdout",
     "output_type": "stream",
     "text": [
      "cordinates are 7 , 10\n"
     ]
    }
   ],
   "source": [
    "cordinate(7)"
   ]
  },
  {
   "cell_type": "code",
   "execution_count": null,
   "id": "2899ff69",
   "metadata": {},
   "outputs": [],
   "source": [
    "#function to print the name of family members"
   ]
  },
  {
   "cell_type": "code",
   "execution_count": 161,
   "id": "5767f9b2",
   "metadata": {},
   "outputs": [],
   "source": [
    "def iseven(x):\n",
    "    if x%2==0:\n",
    "        return True\n",
    "    else:\n",
    "        return False"
   ]
  },
  {
   "cell_type": "code",
   "execution_count": 162,
   "id": "0f1ffcb0",
   "metadata": {},
   "outputs": [
    {
     "data": {
      "text/plain": [
       "False"
      ]
     },
     "execution_count": 162,
     "metadata": {},
     "output_type": "execute_result"
    }
   ],
   "source": [
    "iseven(67)"
   ]
  },
  {
   "cell_type": "code",
   "execution_count": 163,
   "id": "11958557",
   "metadata": {},
   "outputs": [
    {
     "name": "stdout",
     "output_type": "stream",
     "text": [
      "the square of the value is 25\n"
     ]
    }
   ],
   "source": [
    "#object for function\n",
    "def square(x):\n",
    "    return x*x\n",
    "x2=square(5)\n",
    "print('the square of the value is',x2)"
   ]
  },
  {
   "cell_type": "code",
   "execution_count": 188,
   "id": "37c4dba8",
   "metadata": {},
   "outputs": [
    {
     "name": "stdout",
     "output_type": "stream",
     "text": [
      "the square is 25\n"
     ]
    }
   ],
   "source": [
    "#passing the data structure in function \n",
    "def squareandcube(y):\n",
    "    return {'y2':y*y,'y3':y*y*y}\n",
    "dict1=squareandcube(5)\n",
    "print('the square is',dict1['y2'])"
   ]
  },
  {
   "cell_type": "code",
   "execution_count": 165,
   "id": "5a756ade",
   "metadata": {},
   "outputs": [
    {
     "name": "stdout",
     "output_type": "stream",
     "text": [
      "64\n"
     ]
    }
   ],
   "source": [
    "#lambda function \n",
    "cube=lambda x:x*x*x\n",
    "print(cube(4))"
   ]
  },
  {
   "cell_type": "code",
   "execution_count": null,
   "id": "2ab099ad",
   "metadata": {},
   "outputs": [],
   "source": [
    "process=lambda func1:print(func1(5))\n",
    "process(lambda x:x*x)\n",
    "process(lambda x:x*x*x)"
   ]
  },
  {
   "cell_type": "code",
   "execution_count": 166,
   "id": "88012cb5",
   "metadata": {},
   "outputs": [
    {
     "name": "stdout",
     "output_type": "stream",
     "text": [
      "[106.2, 110.4, 105.8, 109.7]\n"
     ]
    }
   ],
   "source": [
    "#map in lamda\n",
    "signals=[103.2,107.4,102.8,106.7]\n",
    "new_signals=list(map(lambda x:x+3,signals))\n",
    "print(new_signals)"
   ]
  },
  {
   "cell_type": "code",
   "execution_count": 167,
   "id": "2ff38b72",
   "metadata": {},
   "outputs": [
    {
     "name": "stdout",
     "output_type": "stream",
     "text": [
      "the sum of list elements is,10\n"
     ]
    }
   ],
   "source": [
    "#reduce in lambda\n",
    "#the reduce function give a single value of all elements of the iterable\n",
    "import functools\n",
    "l1=[1,2,3,4]\n",
    "print(\"the sum of list elements is,\",end='')\n",
    "print(functools.reduce(lambda a,b:a+b,l1))"
   ]
  },
  {
   "cell_type": "code",
   "execution_count": 168,
   "id": "9a7700d9",
   "metadata": {},
   "outputs": [],
   "source": [
    "#modules in python\n",
    "def greeting(name):\n",
    "    print(\"hello\",name)\n",
    "#to make this code as a module we have to sve this code as a file with proper extension\n",
    "#to create a module in python write your code in IDLE and save the file with .py extension in the same directory \n",
    "#then call this file(module) in jupyter using import method "
   ]
  },
  {
   "cell_type": "code",
   "execution_count": 170,
   "id": "61298239",
   "metadata": {},
   "outputs": [
    {
     "ename": "ModuleNotFoundError",
     "evalue": "No module named 'maxis'",
     "output_type": "error",
     "traceback": [
      "\u001b[0;31m---------------------------------------------------------------------------\u001b[0m",
      "\u001b[0;31mModuleNotFoundError\u001b[0m                       Traceback (most recent call last)",
      "\u001b[0;32m/var/folders/hw/qbxwv30d0pd327557k42wrxc0000gp/T/ipykernel_68681/1510858602.py\u001b[0m in \u001b[0;36m<module>\u001b[0;34m\u001b[0m\n\u001b[1;32m      1\u001b[0m \u001b[0;31m#calling the module\u001b[0m\u001b[0;34m\u001b[0m\u001b[0;34m\u001b[0m\u001b[0m\n\u001b[0;32m----> 2\u001b[0;31m \u001b[0;32mimport\u001b[0m \u001b[0mmaxis\u001b[0m\u001b[0;34m\u001b[0m\u001b[0;34m\u001b[0m\u001b[0m\n\u001b[0m\u001b[1;32m      3\u001b[0m \u001b[0mmaxis\u001b[0m\u001b[0;34m.\u001b[0m\u001b[0mgreeting\u001b[0m\u001b[0;34m(\u001b[0m\u001b[0;34m\"Ashish\"\u001b[0m\u001b[0;34m)\u001b[0m\u001b[0;34m\u001b[0m\u001b[0;34m\u001b[0m\u001b[0m\n",
      "\u001b[0;31mModuleNotFoundError\u001b[0m: No module named 'maxis'"
     ]
    }
   ],
   "source": [
    "#calling the module \n",
    "import maxis\n",
    "maxis.greeting(\"Ashish\")"
   ]
  },
  {
   "cell_type": "code",
   "execution_count": 169,
   "id": "2b7c5a9a",
   "metadata": {},
   "outputs": [
    {
     "name": "stderr",
     "output_type": "stream",
     "text": [
      "/Users/admin/opt/anaconda3/lib/python3.9/site-packages/scipy/__init__.py:155: UserWarning: A NumPy version >=1.18.5 and <1.25.0 is required for this version of SciPy (detected version 1.26.4\n",
      "  warnings.warn(f\"A NumPy version >={np_minversion} and <{np_maxversion}\"\n"
     ]
    }
   ],
   "source": [
    "#importing a module in python \n",
    "from scipy.stats import stats"
   ]
  },
  {
   "cell_type": "code",
   "execution_count": null,
   "id": "de8ad368",
   "metadata": {},
   "outputs": [],
   "source": [
    "# read and write operation python \n",
    "#file access modes\n",
    "#read only('r')\n",
    "#read and write('r+')\n",
    "#write only('w')\n",
    "#write and read('w+')\n",
    "#append only('a')\n",
    "#append and read('a+')"
   ]
  },
  {
   "cell_type": "code",
   "execution_count": 178,
   "id": "2f202a5d",
   "metadata": {},
   "outputs": [],
   "source": [
    "#reading the file \n",
    "df1=open(\"file1.txt\",\"r\")"
   ]
  },
  {
   "cell_type": "code",
   "execution_count": 179,
   "id": "1758dc9a",
   "metadata": {},
   "outputs": [
    {
     "name": "stdout",
     "output_type": "stream",
     "text": [
      "\"hi, my name is ashish and we are working on different aspects of python\"\n"
     ]
    }
   ],
   "source": [
    "print(df1.read())"
   ]
  },
  {
   "cell_type": "code",
   "execution_count": 183,
   "id": "2c9dc768",
   "metadata": {},
   "outputs": [],
   "source": [
    "f=open(\"file1.txt\",\"a\")\n",
    "f.write(\"\\n also we are learning how to add a line to a file\")\n",
    "f.close()"
   ]
  },
  {
   "cell_type": "code",
   "execution_count": 184,
   "id": "cbd85e47",
   "metadata": {},
   "outputs": [
    {
     "name": "stdout",
     "output_type": "stream",
     "text": [
      "\"hi, my name is ashish and we are working on different aspects of python\"Today we are learning the file operations in python and working with different file modes\n",
      " also we are learning how to add a line to a file\n"
     ]
    }
   ],
   "source": [
    "f=open(\"file1.txt\",\"r\")\n",
    "print(f.read())"
   ]
  },
  {
   "cell_type": "code",
   "execution_count": 182,
   "id": "a32fd67a",
   "metadata": {},
   "outputs": [],
   "source": [
    "#deleting a file form directory\n",
    "import os\n",
    "#os.remove(\"file1.txt\")\n",
    "\n"
   ]
  },
  {
   "cell_type": "code",
   "execution_count": null,
   "id": "a524e998",
   "metadata": {},
   "outputs": [],
   "source": [
    "#importing files from other directory\n",
    "#using copy of the file path \n",
    "file1=\"c:\\folder1\\folder2\\file.csv\""
   ]
  },
  {
   "cell_type": "code",
   "execution_count": 186,
   "id": "f0ce214a",
   "metadata": {},
   "outputs": [],
   "source": [
    "import pandas as pd"
   ]
  },
  {
   "cell_type": "code",
   "execution_count": null,
   "id": "7514c6d6",
   "metadata": {},
   "outputs": [],
   "source": [
    "fil2=pd.read_csv(\"c:/folder1/folder2/file_name.csv\")"
   ]
  },
  {
   "cell_type": "code",
   "execution_count": null,
   "id": "3fe72340",
   "metadata": {},
   "outputs": [],
   "source": [
    "#error handling \n",
    "#try block\n",
    "#except block \n",
    "#finally"
   ]
  },
  {
   "cell_type": "code",
   "execution_count": 192,
   "id": "84fb3aef",
   "metadata": {},
   "outputs": [
    {
     "name": "stdout",
     "output_type": "stream",
     "text": [
      "an exception occured\n"
     ]
    }
   ],
   "source": [
    "try:\n",
    "    print(h)\n",
    "except:\n",
    "    print(\"an exception occured\")"
   ]
  },
  {
   "cell_type": "code",
   "execution_count": 193,
   "id": "51e11d6f",
   "metadata": {},
   "outputs": [
    {
     "ename": "NameError",
     "evalue": "name 'Sqaure' is not defined",
     "output_type": "error",
     "traceback": [
      "\u001b[0;31m---------------------------------------------------------------------------\u001b[0m",
      "\u001b[0;31mNameError\u001b[0m                                 Traceback (most recent call last)",
      "\u001b[0;32m/var/folders/hw/qbxwv30d0pd327557k42wrxc0000gp/T/ipykernel_68681/3483684965.py\u001b[0m in \u001b[0;36m<module>\u001b[0;34m\u001b[0m\n\u001b[1;32m      3\u001b[0m \u001b[0;31m#adding a string to number(type error)\u001b[0m\u001b[0;34m\u001b[0m\u001b[0;34m\u001b[0m\u001b[0m\n\u001b[1;32m      4\u001b[0m \u001b[0;31m#nameerror\u001b[0m\u001b[0;34m\u001b[0m\u001b[0;34m\u001b[0m\u001b[0m\n\u001b[0;32m----> 5\u001b[0;31m \u001b[0mSqaure\u001b[0m\u001b[0;34m(\u001b[0m\u001b[0;36m5\u001b[0m\u001b[0;34m)\u001b[0m\u001b[0;34m\u001b[0m\u001b[0;34m\u001b[0m\u001b[0m\n\u001b[0m",
      "\u001b[0;31mNameError\u001b[0m: name 'Sqaure' is not defined"
     ]
    }
   ],
   "source": [
    "#syntax error\n",
    "#type error\n",
    "#adding a string to number(type error)\n",
    "#nameerror\n",
    "Sqaure(5)\n",
    "#indexError-> when a index is out of range for a list"
   ]
  },
  {
   "cell_type": "code",
   "execution_count": null,
   "id": "44e933ac",
   "metadata": {},
   "outputs": [],
   "source": []
  },
  {
   "cell_type": "code",
   "execution_count": null,
   "id": "a41d9d88",
   "metadata": {},
   "outputs": [],
   "source": []
  },
  {
   "cell_type": "code",
   "execution_count": null,
   "id": "685af463",
   "metadata": {},
   "outputs": [],
   "source": []
  },
  {
   "cell_type": "code",
   "execution_count": null,
   "id": "e2fe1492",
   "metadata": {},
   "outputs": [],
   "source": []
  },
  {
   "cell_type": "code",
   "execution_count": null,
   "id": "54164580",
   "metadata": {},
   "outputs": [],
   "source": []
  },
  {
   "cell_type": "code",
   "execution_count": null,
   "id": "5abaf35a",
   "metadata": {},
   "outputs": [],
   "source": []
  }
 ],
 "metadata": {
  "kernelspec": {
   "display_name": "Python 3 (ipykernel)",
   "language": "python",
   "name": "python3"
  },
  "language_info": {
   "codemirror_mode": {
    "name": "ipython",
    "version": 3
   },
   "file_extension": ".py",
   "mimetype": "text/x-python",
   "name": "python",
   "nbconvert_exporter": "python",
   "pygments_lexer": "ipython3",
   "version": "3.9.13"
  }
 },
 "nbformat": 4,
 "nbformat_minor": 5
}
