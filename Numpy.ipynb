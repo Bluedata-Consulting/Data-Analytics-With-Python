{
 "cells": [
  {
   "cell_type": "code",
   "execution_count": 1,
   "id": "be0c3479-e4a3-406d-991d-cead5c850b04",
   "metadata": {},
   "outputs": [],
   "source": [
    "import numpy as np #np is the alias name to numpy "
   ]
  },
  {
   "cell_type": "code",
   "execution_count": 2,
   "id": "29690f1c-0dcc-4b3c-ab56-d1ed789eff9e",
   "metadata": {},
   "outputs": [],
   "source": [
    "my_list=[1,2,3,4,5]"
   ]
  },
  {
   "cell_type": "code",
   "execution_count": 6,
   "id": "b99bfb00-280f-4bbc-bda8-e48f0aa206ba",
   "metadata": {},
   "outputs": [
    {
     "name": "stdout",
     "output_type": "stream",
     "text": [
      "[1, 2, 3, 4, 5]\n"
     ]
    }
   ],
   "source": [
    "print(my_list)"
   ]
  },
  {
   "cell_type": "code",
   "execution_count": 3,
   "id": "31fc48b6-96f4-4c97-ade3-46b86866ef64",
   "metadata": {},
   "outputs": [
    {
     "data": {
      "text/plain": [
       "list"
      ]
     },
     "execution_count": 3,
     "metadata": {},
     "output_type": "execute_result"
    }
   ],
   "source": [
    "type(my_list)"
   ]
  },
  {
   "cell_type": "code",
   "execution_count": null,
   "id": "f42b69ab-0906-45e8-8d46-d1c4ea5a2b9a",
   "metadata": {},
   "outputs": [],
   "source": [
    "#list will be converted to an array by using a function called - np.array()"
   ]
  },
  {
   "cell_type": "code",
   "execution_count": 4,
   "id": "fe699f2c-96fa-442b-99fc-9b8170c9fc66",
   "metadata": {},
   "outputs": [],
   "source": [
    "arr=np.array(my_list)"
   ]
  },
  {
   "cell_type": "code",
   "execution_count": 5,
   "id": "a91626da-72d7-45b4-9dd3-d8274d7466c7",
   "metadata": {},
   "outputs": [
    {
     "name": "stdout",
     "output_type": "stream",
     "text": [
      "[1 2 3 4 5]\n"
     ]
    }
   ],
   "source": [
    "print(arr) #1 dimentional numpy array "
   ]
  },
  {
   "cell_type": "code",
   "execution_count": 7,
   "id": "faf1325d-fa64-451e-a247-38c1d596de61",
   "metadata": {},
   "outputs": [
    {
     "data": {
      "text/plain": [
       "numpy.ndarray"
      ]
     },
     "execution_count": 7,
     "metadata": {},
     "output_type": "execute_result"
    }
   ],
   "source": [
    "type(arr) "
   ]
  },
  {
   "cell_type": "code",
   "execution_count": 8,
   "id": "bb825fb2-20fc-40a9-a059-8e5d0684f84f",
   "metadata": {},
   "outputs": [],
   "source": [
    "#multidimentional numpy array \n",
    "my_list_1=[1,2,3,4,5]\n",
    "my_list_2=[3,5,7,9,0]\n",
    "my_list_3=[2,3,1,5,9]\n",
    "\n",
    "arr_new=np.array([my_list_1,my_list_2,my_list_3])"
   ]
  },
  {
   "cell_type": "code",
   "execution_count": 9,
   "id": "6be638f1-a440-498c-86ce-bf827081e5a0",
   "metadata": {},
   "outputs": [
    {
     "name": "stdout",
     "output_type": "stream",
     "text": [
      "[[1 2 3 4 5]\n",
      " [3 5 7 9 0]\n",
      " [2 3 1 5 9]]\n"
     ]
    }
   ],
   "source": [
    "print(arr_new) #2 dimentional numpy array with 3 rows and 5 columns "
   ]
  },
  {
   "cell_type": "code",
   "execution_count": 10,
   "id": "00d4400b-d681-4942-bf0d-c1fd2cbdb8ff",
   "metadata": {},
   "outputs": [
    {
     "data": {
      "text/plain": [
       "(3, 5)"
      ]
     },
     "execution_count": 10,
     "metadata": {},
     "output_type": "execute_result"
    }
   ],
   "source": [
    "arr_new.shape #.shape will show the number of rows and number of columns "
   ]
  },
  {
   "cell_type": "code",
   "execution_count": 11,
   "id": "7109aa5b-8bf8-47ad-aafa-3fc6042bc401",
   "metadata": {},
   "outputs": [
    {
     "data": {
      "text/plain": [
       "array([[1, 2, 3],\n",
       "       [4, 5, 3],\n",
       "       [5, 7, 9],\n",
       "       [0, 2, 3],\n",
       "       [1, 5, 9]])"
      ]
     },
     "execution_count": 11,
     "metadata": {},
     "output_type": "execute_result"
    }
   ],
   "source": [
    "arr_new.reshape(5,3) #5,3 means - 5*3 i.e. 15 elements in the numpy array"
   ]
  },
  {
   "cell_type": "code",
   "execution_count": 12,
   "id": "72f52316-8f5a-46d4-ba77-24c586dcd4ad",
   "metadata": {},
   "outputs": [
    {
     "ename": "ValueError",
     "evalue": "cannot reshape array of size 15 into shape (5,4)",
     "output_type": "error",
     "traceback": [
      "\u001b[1;31m---------------------------------------------------------------------------\u001b[0m",
      "\u001b[1;31mValueError\u001b[0m                                Traceback (most recent call last)",
      "Cell \u001b[1;32mIn[12], line 1\u001b[0m\n\u001b[1;32m----> 1\u001b[0m arr_new\u001b[38;5;241m.\u001b[39mreshape(\u001b[38;5;241m5\u001b[39m,\u001b[38;5;241m4\u001b[39m)\n",
      "\u001b[1;31mValueError\u001b[0m: cannot reshape array of size 15 into shape (5,4)"
     ]
    }
   ],
   "source": [
    "arr_new.reshape(5,4) #5,4 means 5*4 i.e 20 elements in the numpy array "
   ]
  },
  {
   "cell_type": "code",
   "execution_count": 13,
   "id": "b2087dd1-c2d5-485c-a702-1aa4dadd604b",
   "metadata": {},
   "outputs": [],
   "source": [
    "#generating numbers using numpy\n",
    "a=np.arange(0,15) #.arange(0,15) will generate numbers between 0 to 15 (15 will be exclusive)"
   ]
  },
  {
   "cell_type": "code",
   "execution_count": 14,
   "id": "1b181439-8c7b-4c38-a0be-405dab6e4331",
   "metadata": {},
   "outputs": [
    {
     "name": "stdout",
     "output_type": "stream",
     "text": [
      "[ 0  1  2  3  4  5  6  7  8  9 10 11 12 13 14]\n"
     ]
    }
   ],
   "source": [
    "print(a)"
   ]
  },
  {
   "cell_type": "code",
   "execution_count": 15,
   "id": "22405255-2149-4c4b-8658-accf181d4016",
   "metadata": {},
   "outputs": [],
   "source": [
    "b=np.arange(0,15,3) #3 is the step size "
   ]
  },
  {
   "cell_type": "code",
   "execution_count": 16,
   "id": "fc491381-259e-429a-a007-dc64317767a3",
   "metadata": {},
   "outputs": [
    {
     "name": "stdout",
     "output_type": "stream",
     "text": [
      "[ 0  3  6  9 12]\n"
     ]
    }
   ],
   "source": [
    "print(b)"
   ]
  },
  {
   "cell_type": "code",
   "execution_count": 17,
   "id": "7ddbe850-a577-400a-bc8c-0a97411446f7",
   "metadata": {},
   "outputs": [],
   "source": [
    "c=np.linspace(1,10,50) #here 50 is the number of output that we need from this given range\n",
    "#here 10 or the stopping point will not be exclusive in nature"
   ]
  },
  {
   "cell_type": "code",
   "execution_count": 18,
   "id": "b1ca7b57-cbb4-4bc5-9947-ac9b3d56abbf",
   "metadata": {},
   "outputs": [
    {
     "name": "stdout",
     "output_type": "stream",
     "text": [
      "[ 1.          1.18367347  1.36734694  1.55102041  1.73469388  1.91836735\n",
      "  2.10204082  2.28571429  2.46938776  2.65306122  2.83673469  3.02040816\n",
      "  3.20408163  3.3877551   3.57142857  3.75510204  3.93877551  4.12244898\n",
      "  4.30612245  4.48979592  4.67346939  4.85714286  5.04081633  5.2244898\n",
      "  5.40816327  5.59183673  5.7755102   5.95918367  6.14285714  6.32653061\n",
      "  6.51020408  6.69387755  6.87755102  7.06122449  7.24489796  7.42857143\n",
      "  7.6122449   7.79591837  7.97959184  8.16326531  8.34693878  8.53061224\n",
      "  8.71428571  8.89795918  9.08163265  9.26530612  9.44897959  9.63265306\n",
      "  9.81632653 10.        ]\n"
     ]
    }
   ],
   "source": [
    "print(c)"
   ]
  },
  {
   "cell_type": "code",
   "execution_count": 19,
   "id": "26cbc197-312e-4a5b-b63c-26d54f0926e0",
   "metadata": {},
   "outputs": [],
   "source": [
    "d=np.linspace(1,10,75) #here 75 is the number of outcomes needed "
   ]
  },
  {
   "cell_type": "code",
   "execution_count": 20,
   "id": "0cd2078a-939a-4fb7-b209-80d0019c4e63",
   "metadata": {},
   "outputs": [
    {
     "name": "stdout",
     "output_type": "stream",
     "text": [
      "[ 1.          1.12162162  1.24324324  1.36486486  1.48648649  1.60810811\n",
      "  1.72972973  1.85135135  1.97297297  2.09459459  2.21621622  2.33783784\n",
      "  2.45945946  2.58108108  2.7027027   2.82432432  2.94594595  3.06756757\n",
      "  3.18918919  3.31081081  3.43243243  3.55405405  3.67567568  3.7972973\n",
      "  3.91891892  4.04054054  4.16216216  4.28378378  4.40540541  4.52702703\n",
      "  4.64864865  4.77027027  4.89189189  5.01351351  5.13513514  5.25675676\n",
      "  5.37837838  5.5         5.62162162  5.74324324  5.86486486  5.98648649\n",
      "  6.10810811  6.22972973  6.35135135  6.47297297  6.59459459  6.71621622\n",
      "  6.83783784  6.95945946  7.08108108  7.2027027   7.32432432  7.44594595\n",
      "  7.56756757  7.68918919  7.81081081  7.93243243  8.05405405  8.17567568\n",
      "  8.2972973   8.41891892  8.54054054  8.66216216  8.78378378  8.90540541\n",
      "  9.02702703  9.14864865  9.27027027  9.39189189  9.51351351  9.63513514\n",
      "  9.75675676  9.87837838 10.        ]\n"
     ]
    }
   ],
   "source": [
    "print(d)"
   ]
  },
  {
   "cell_type": "code",
   "execution_count": 23,
   "id": "ae3621d1-501b-4e04-a1d4-7689d5916396",
   "metadata": {},
   "outputs": [
    {
     "data": {
      "text/plain": [
       "array([[0.57941764, 0.82501229, 0.33880607, 0.66686929],\n",
       "       [0.15907241, 0.93639572, 0.67844219, 0.30979641],\n",
       "       [0.78588205, 0.1607923 , 0.27632795, 0.67682507]])"
      ]
     },
     "execution_count": 23,
     "metadata": {},
     "output_type": "execute_result"
    }
   ],
   "source": [
    "#generating random numbers using numpy \n",
    "np.random.rand(3,4) #here 3 indicates the number of rows and 4 indicates the number of columns\n",
    "#here by default the range will be between 0-1 (1 being exclusive)"
   ]
  },
  {
   "cell_type": "code",
   "execution_count": null,
   "id": "eeed0fa9-bd9e-42c3-8640-e004309b193f",
   "metadata": {},
   "outputs": [],
   "source": [
    "#Create a 2D array with 4 rows and 5 columns and values ranging between 0-1 (1 being exclusive)"
   ]
  },
  {
   "cell_type": "code",
   "execution_count": 24,
   "id": "f7f6c3de-2591-4c31-8bb1-47c5dbe38908",
   "metadata": {},
   "outputs": [
    {
     "data": {
      "text/plain": [
       "array([[0.86428866, 0.17697894, 0.97363973, 0.50904749, 0.32455914],\n",
       "       [0.40879022, 0.86953565, 0.54936434, 0.518695  , 0.75945769],\n",
       "       [0.78712217, 0.93761249, 0.80539782, 0.95328853, 0.0339459 ],\n",
       "       [0.13779069, 0.64237158, 0.92721175, 0.90241679, 0.19577588]])"
      ]
     },
     "execution_count": 24,
     "metadata": {},
     "output_type": "execute_result"
    }
   ],
   "source": [
    "np.random.rand(4,5)"
   ]
  },
  {
   "cell_type": "code",
   "execution_count": 32,
   "id": "2ed491fb-9a7c-4b5d-b38b-f94873646fca",
   "metadata": {},
   "outputs": [
    {
     "data": {
      "text/plain": [
       "2"
      ]
     },
     "execution_count": 32,
     "metadata": {},
     "output_type": "execute_result"
    }
   ],
   "source": [
    "np.random.randint(1,10) #here 1-10 is the range and again 10 will be exclusive"
   ]
  },
  {
   "cell_type": "code",
   "execution_count": 33,
   "id": "2ed2f757-5a28-4596-b8fd-6ec247eb774a",
   "metadata": {},
   "outputs": [
    {
     "data": {
      "text/plain": [
       "array([6, 8, 7])"
      ]
     },
     "execution_count": 33,
     "metadata": {},
     "output_type": "execute_result"
    }
   ],
   "source": [
    "np.random.randint(1,10,3) #here 3 indicates the number of output in the given range"
   ]
  },
  {
   "cell_type": "code",
   "execution_count": 34,
   "id": "702e103e-0218-4ebb-90b6-7fb7b771c8a1",
   "metadata": {},
   "outputs": [],
   "source": [
    "#numerical analysis using numpy\n",
    "a=np.array([1,2,3,4,5])"
   ]
  },
  {
   "cell_type": "code",
   "execution_count": 35,
   "id": "f3cf68a4-60fd-40ef-9008-cf5fff2927fe",
   "metadata": {},
   "outputs": [
    {
     "name": "stdout",
     "output_type": "stream",
     "text": [
      "adding 1 to each element [2 3 4 5 6]\n",
      "multiply 5 to each element [ 5 10 15 20 25]\n",
      "subtracting 2 from each element [-1  0  1  2  3]\n",
      "squaring all the elements [ 1  4  9 16 25]\n"
     ]
    }
   ],
   "source": [
    "print(\"adding 1 to each element\",a+1)\n",
    "print(\"multiply 5 to each element\",a*5)\n",
    "print(\"subtracting 2 from each element\",a-2)\n",
    "print(\"squaring all the elements\",a**2)"
   ]
  },
  {
   "cell_type": "code",
   "execution_count": 36,
   "id": "4c5f70b6-8ca3-470a-b260-0c3c60e6365f",
   "metadata": {},
   "outputs": [],
   "source": [
    "new_arr=np.array([[1,5,7],[4,7,2],[3,1,9]])"
   ]
  },
  {
   "cell_type": "code",
   "execution_count": 37,
   "id": "9cff9d5c-1547-49f9-9004-99abafd4b037",
   "metadata": {},
   "outputs": [
    {
     "name": "stdout",
     "output_type": "stream",
     "text": [
      "[[1 5 7]\n",
      " [4 7 2]\n",
      " [3 1 9]]\n"
     ]
    }
   ],
   "source": [
    "print(new_arr)"
   ]
  },
  {
   "cell_type": "code",
   "execution_count": 38,
   "id": "5cf94e4d-df49-4c84-9458-7d4d8a2eb918",
   "metadata": {},
   "outputs": [
    {
     "data": {
      "text/plain": [
       "(3, 3)"
      ]
     },
     "execution_count": 38,
     "metadata": {},
     "output_type": "execute_result"
    }
   ],
   "source": [
    "new_arr.shape"
   ]
  },
  {
   "cell_type": "code",
   "execution_count": 39,
   "id": "56882473-b78e-47bd-9287-0ce63d47a57e",
   "metadata": {},
   "outputs": [
    {
     "name": "stdout",
     "output_type": "stream",
     "text": [
      "largest element from the matrix 9\n",
      "smallest element from the matrix 1\n",
      "sum of all the elements from the matrix 39\n"
     ]
    }
   ],
   "source": [
    "print(\"largest element from the matrix\", new_arr.max()) #.max() will give the largest number\n",
    "print(\"smallest element from the matrix\", new_arr.min()) #.min() will give the smallest number\n",
    "print(\"sum of all the elements from the matrix\", new_arr.sum()) #.sum() will give sum of all the elements"
   ]
  },
  {
   "cell_type": "code",
   "execution_count": 40,
   "id": "460914e1-e6c2-40a2-8b87-c2dcaf5fae5b",
   "metadata": {},
   "outputs": [
    {
     "name": "stdout",
     "output_type": "stream",
     "text": [
      "transpose of the matrix [[1 4 3]\n",
      " [5 7 1]\n",
      " [7 2 9]]\n"
     ]
    }
   ],
   "source": [
    "print(\"transpose of the matrix\",new_arr.T) #.T will give the transpose (r-->c and vice versa)"
   ]
  },
  {
   "cell_type": "code",
   "execution_count": 41,
   "id": "79a605ff-9523-4747-b952-81e7fae55069",
   "metadata": {},
   "outputs": [
    {
     "name": "stdout",
     "output_type": "stream",
     "text": [
      "adding the metrics together [[5 5]\n",
      " [5 5]]\n",
      "multiplying the metrics together [[4 6]\n",
      " [6 4]]\n"
     ]
    }
   ],
   "source": [
    "mat_1=np.array([[1,2],[3,4]])\n",
    "mat_2=np.array([[4,3],[2,1]])\n",
    "\n",
    "print(\"adding the metrics together\",mat_1+mat_2)\n",
    "print(\"multiplying the metrics together\",mat_1*mat_2)"
   ]
  },
  {
   "cell_type": "code",
   "execution_count": null,
   "id": "07cd9096-f2b9-4427-b535-5a2573e32111",
   "metadata": {},
   "outputs": [],
   "source": []
  }
 ],
 "metadata": {
  "kernelspec": {
   "display_name": "Python 3 (ipykernel)",
   "language": "python",
   "name": "python3"
  },
  "language_info": {
   "codemirror_mode": {
    "name": "ipython",
    "version": 3
   },
   "file_extension": ".py",
   "mimetype": "text/x-python",
   "name": "python",
   "nbconvert_exporter": "python",
   "pygments_lexer": "ipython3",
   "version": "3.11.7"
  }
 },
 "nbformat": 4,
 "nbformat_minor": 5
}
